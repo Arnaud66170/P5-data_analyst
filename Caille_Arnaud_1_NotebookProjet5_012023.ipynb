{
 "cells": [
  {
   "cell_type": "markdown",
   "id": "5a57d7ac",
   "metadata": {},
   "source": [
    "# Projet 5 - Optimiser la gestion des données d'une boutique"
   ]
  },
  {
   "cell_type": "markdown",
   "id": "29b9936b",
   "metadata": {},
   "source": [
    "## <u>1- Importation</u>"
   ]
  },
  {
   "cell_type": "markdown",
   "id": "7cfaa3b3",
   "metadata": {},
   "source": [
    "### 1.1 - Librairies"
   ]
  },
  {
   "cell_type": "code",
   "execution_count": 1,
   "id": "5e676bb0",
   "metadata": {},
   "outputs": [],
   "source": [
    "import pandas as pd\n",
    "import numpy as np\n",
    "import matplotlib.pyplot as plt\n",
    "import seaborn as sns\n",
    "\n",
    "import warnings\n",
    "warnings.filterwarnings(\"ignore\")"
   ]
  },
  {
   "cell_type": "markdown",
   "id": "18be44f5",
   "metadata": {},
   "source": [
    "### 1.2 - données"
   ]
  },
  {
   "cell_type": "code",
   "execution_count": 2,
   "id": "09701090",
   "metadata": {},
   "outputs": [],
   "source": [
    "erp = pd.read_excel(\"erp.xlsx\")\n",
    "web = pd.read_excel(\"web.xlsx\")\n",
    "liaison = pd.read_excel(\"liaison.xlsx\")"
   ]
  },
  {
   "cell_type": "markdown",
   "id": "52a03717",
   "metadata": {},
   "source": [
    "## <u>2 - Exploration des dataframes</u>"
   ]
  },
  {
   "cell_type": "markdown",
   "id": "f80742a1",
   "metadata": {},
   "source": [
    "### <u>2.1 - ERP</u>"
   ]
  },
  {
   "cell_type": "markdown",
   "id": "2d9476f0",
   "metadata": {},
   "source": [
    "### 2.1.1 - Informations du dataframe"
   ]
  },
  {
   "cell_type": "code",
   "execution_count": 3,
   "id": "f5175cf2",
   "metadata": {},
   "outputs": [
    {
     "name": "stdout",
     "output_type": "stream",
     "text": [
      "<class 'pandas.core.frame.DataFrame'>\n",
      "RangeIndex: 825 entries, 0 to 824\n",
      "Data columns (total 5 columns):\n",
      " #   Column          Non-Null Count  Dtype  \n",
      "---  ------          --------------  -----  \n",
      " 0   product_id      825 non-null    int64  \n",
      " 1   onsale_web      825 non-null    int64  \n",
      " 2   price           825 non-null    float64\n",
      " 3   stock_quantity  825 non-null    int64  \n",
      " 4   stock_status    825 non-null    object \n",
      "dtypes: float64(1), int64(3), object(1)\n",
      "memory usage: 32.4+ KB\n"
     ]
    }
   ],
   "source": [
    "erp.info()"
   ]
  },
  {
   "cell_type": "markdown",
   "id": "4494a2b6",
   "metadata": {},
   "source": [
    "#### Le dataframe <u>ERP</u> compte 825 lignes (indexées de 0 à 824) ne comportant aucune valeur NULL et 5 colonnes dont 1 de type \"float\", 3 de type \"int\" et 1 de type \"object\"."
   ]
  },
  {
   "cell_type": "markdown",
   "id": "f81c81f5",
   "metadata": {},
   "source": [
    "### 2.1.2 - Visualisation des séries"
   ]
  },
  {
   "cell_type": "code",
   "execution_count": 4,
   "id": "7140ebf8",
   "metadata": {},
   "outputs": [
    {
     "data": {
      "text/html": [
       "<div>\n",
       "<style scoped>\n",
       "    .dataframe tbody tr th:only-of-type {\n",
       "        vertical-align: middle;\n",
       "    }\n",
       "\n",
       "    .dataframe tbody tr th {\n",
       "        vertical-align: top;\n",
       "    }\n",
       "\n",
       "    .dataframe thead th {\n",
       "        text-align: right;\n",
       "    }\n",
       "</style>\n",
       "<table border=\"1\" class=\"dataframe\">\n",
       "  <thead>\n",
       "    <tr style=\"text-align: right;\">\n",
       "      <th></th>\n",
       "      <th>product_id</th>\n",
       "      <th>onsale_web</th>\n",
       "      <th>price</th>\n",
       "      <th>stock_quantity</th>\n",
       "      <th>stock_status</th>\n",
       "    </tr>\n",
       "  </thead>\n",
       "  <tbody>\n",
       "    <tr>\n",
       "      <th>0</th>\n",
       "      <td>3847</td>\n",
       "      <td>1</td>\n",
       "      <td>24.2</td>\n",
       "      <td>0</td>\n",
       "      <td>outofstock</td>\n",
       "    </tr>\n",
       "    <tr>\n",
       "      <th>1</th>\n",
       "      <td>3849</td>\n",
       "      <td>1</td>\n",
       "      <td>34.3</td>\n",
       "      <td>0</td>\n",
       "      <td>outofstock</td>\n",
       "    </tr>\n",
       "    <tr>\n",
       "      <th>2</th>\n",
       "      <td>3850</td>\n",
       "      <td>1</td>\n",
       "      <td>20.8</td>\n",
       "      <td>0</td>\n",
       "      <td>outofstock</td>\n",
       "    </tr>\n",
       "    <tr>\n",
       "      <th>3</th>\n",
       "      <td>4032</td>\n",
       "      <td>1</td>\n",
       "      <td>14.1</td>\n",
       "      <td>0</td>\n",
       "      <td>outofstock</td>\n",
       "    </tr>\n",
       "    <tr>\n",
       "      <th>4</th>\n",
       "      <td>4039</td>\n",
       "      <td>1</td>\n",
       "      <td>46.0</td>\n",
       "      <td>0</td>\n",
       "      <td>outofstock</td>\n",
       "    </tr>\n",
       "  </tbody>\n",
       "</table>\n",
       "</div>"
      ],
      "text/plain": [
       "   product_id  onsale_web  price  stock_quantity stock_status\n",
       "0        3847           1   24.2               0   outofstock\n",
       "1        3849           1   34.3               0   outofstock\n",
       "2        3850           1   20.8               0   outofstock\n",
       "3        4032           1   14.1               0   outofstock\n",
       "4        4039           1   46.0               0   outofstock"
      ]
     },
     "execution_count": 4,
     "metadata": {},
     "output_type": "execute_result"
    }
   ],
   "source": [
    "erp.head()"
   ]
  },
  {
   "cell_type": "markdown",
   "id": "2af8c296",
   "metadata": {},
   "source": [
    "### <u>2.2 - WEB</u>"
   ]
  },
  {
   "cell_type": "markdown",
   "id": "00bfbcfa",
   "metadata": {},
   "source": [
    "### 2.2.1 - Informations du dataframe"
   ]
  },
  {
   "cell_type": "code",
   "execution_count": 5,
   "id": "468c602a",
   "metadata": {},
   "outputs": [
    {
     "name": "stdout",
     "output_type": "stream",
     "text": [
      "<class 'pandas.core.frame.DataFrame'>\n",
      "RangeIndex: 1513 entries, 0 to 1512\n",
      "Data columns (total 28 columns):\n",
      " #   Column                 Non-Null Count  Dtype         \n",
      "---  ------                 --------------  -----         \n",
      " 0   sku                    1428 non-null   object        \n",
      " 1   virtual                1513 non-null   int64         \n",
      " 2   downloadable           1513 non-null   int64         \n",
      " 3   rating_count           1513 non-null   int64         \n",
      " 4   average_rating         1430 non-null   float64       \n",
      " 5   total_sales            1430 non-null   float64       \n",
      " 6   tax_status             716 non-null    object        \n",
      " 7   tax_class              0 non-null      float64       \n",
      " 8   post_author            1430 non-null   float64       \n",
      " 9   post_date              1430 non-null   datetime64[ns]\n",
      " 10  post_date_gmt          1430 non-null   datetime64[ns]\n",
      " 11  post_content           0 non-null      float64       \n",
      " 12  post_title             1430 non-null   object        \n",
      " 13  post_excerpt           716 non-null    object        \n",
      " 14  post_status            1430 non-null   object        \n",
      " 15  comment_status         1430 non-null   object        \n",
      " 16  ping_status            1430 non-null   object        \n",
      " 17  post_password          0 non-null      float64       \n",
      " 18  post_name              1430 non-null   object        \n",
      " 19  post_modified          1430 non-null   datetime64[ns]\n",
      " 20  post_modified_gmt      1430 non-null   datetime64[ns]\n",
      " 21  post_content_filtered  0 non-null      float64       \n",
      " 22  post_parent            1430 non-null   float64       \n",
      " 23  guid                   1430 non-null   object        \n",
      " 24  menu_order             1430 non-null   float64       \n",
      " 25  post_type              1430 non-null   object        \n",
      " 26  post_mime_type         714 non-null    object        \n",
      " 27  comment_count          1430 non-null   float64       \n",
      "dtypes: datetime64[ns](4), float64(10), int64(3), object(11)\n",
      "memory usage: 331.1+ KB\n"
     ]
    }
   ],
   "source": [
    "web.info()"
   ]
  },
  {
   "cell_type": "markdown",
   "id": "206c9c09",
   "metadata": {},
   "source": [
    "#### Le dataframe <u>WEB</u> compte 1513 lignes (indexées de 0 à 1512)  comportant des valeur NULL et 28 colonnes dont 4 sont de type \"date\", 10 de type \"float\", 3 de type \"int\" et 11 de type \"object\".\n",
    "#### On peut remarquer que la série SKU compte 1428 valeurs non-null alors que d'autres, comme \"post_title\" en comptent 1430. Après analyse du dataframe, on peut remarquer que 2 lignes ont une valeur nulle sur la référence \"SKU\", mais pas sur d'autres informations (taxabilité,titre, desciption,etc), contrairement à la majorité des autres lignes ayant la totalité de leurs valeurs étant nulles.\n",
    "#### On peut donc en déduire que ces 2 lignes ne comportent qu'une erreur de saisie. (Je demanderai au service concerné quel genre d'erreur a bien pu être commise afin de la corriger de manière pertinente)\n",
    "#### Je vais donc supprimer toutes les lignes ne comportant que des valeurs nulles et conserver ces 2 là avec le reste des données correctes, après avoir supprimé les séries ne comportant aucune donnée autre que la valeur 0 (étant une valeur unique dans ce cas de figure)"
   ]
  },
  {
   "cell_type": "markdown",
   "id": "1e4b3dbd",
   "metadata": {},
   "source": [
    "### 2.2.2 - Visualisation des séries"
   ]
  },
  {
   "cell_type": "code",
   "execution_count": 6,
   "id": "e458603e",
   "metadata": {},
   "outputs": [
    {
     "data": {
      "text/html": [
       "<div>\n",
       "<style scoped>\n",
       "    .dataframe tbody tr th:only-of-type {\n",
       "        vertical-align: middle;\n",
       "    }\n",
       "\n",
       "    .dataframe tbody tr th {\n",
       "        vertical-align: top;\n",
       "    }\n",
       "\n",
       "    .dataframe thead th {\n",
       "        text-align: right;\n",
       "    }\n",
       "</style>\n",
       "<table border=\"1\" class=\"dataframe\">\n",
       "  <thead>\n",
       "    <tr style=\"text-align: right;\">\n",
       "      <th></th>\n",
       "      <th>sku</th>\n",
       "      <th>virtual</th>\n",
       "      <th>downloadable</th>\n",
       "      <th>rating_count</th>\n",
       "      <th>average_rating</th>\n",
       "      <th>total_sales</th>\n",
       "      <th>tax_status</th>\n",
       "      <th>tax_class</th>\n",
       "      <th>post_author</th>\n",
       "      <th>post_date</th>\n",
       "      <th>...</th>\n",
       "      <th>post_name</th>\n",
       "      <th>post_modified</th>\n",
       "      <th>post_modified_gmt</th>\n",
       "      <th>post_content_filtered</th>\n",
       "      <th>post_parent</th>\n",
       "      <th>guid</th>\n",
       "      <th>menu_order</th>\n",
       "      <th>post_type</th>\n",
       "      <th>post_mime_type</th>\n",
       "      <th>comment_count</th>\n",
       "    </tr>\n",
       "  </thead>\n",
       "  <tbody>\n",
       "    <tr>\n",
       "      <th>0</th>\n",
       "      <td>bon-cadeau-25-euros</td>\n",
       "      <td>0</td>\n",
       "      <td>0</td>\n",
       "      <td>0</td>\n",
       "      <td>0.0</td>\n",
       "      <td>10.0</td>\n",
       "      <td>taxable</td>\n",
       "      <td>NaN</td>\n",
       "      <td>1.0</td>\n",
       "      <td>2018-06-01 13:53:46</td>\n",
       "      <td>...</td>\n",
       "      <td>bon-cadeau-de-25-euros</td>\n",
       "      <td>2018-06-01 14:13:57</td>\n",
       "      <td>2018-06-01 12:13:57</td>\n",
       "      <td>NaN</td>\n",
       "      <td>0.0</td>\n",
       "      <td>https://www.bottle-neck.fr/?post_type=product&amp;...</td>\n",
       "      <td>0.0</td>\n",
       "      <td>product</td>\n",
       "      <td>NaN</td>\n",
       "      <td>0.0</td>\n",
       "    </tr>\n",
       "    <tr>\n",
       "      <th>1</th>\n",
       "      <td>15298</td>\n",
       "      <td>0</td>\n",
       "      <td>0</td>\n",
       "      <td>0</td>\n",
       "      <td>0.0</td>\n",
       "      <td>6.0</td>\n",
       "      <td>taxable</td>\n",
       "      <td>NaN</td>\n",
       "      <td>2.0</td>\n",
       "      <td>2018-02-08 12:58:52</td>\n",
       "      <td>...</td>\n",
       "      <td>pierre-jean-villa-saint-joseph-preface-2018</td>\n",
       "      <td>2019-12-30 09:30:29</td>\n",
       "      <td>2019-12-30 08:30:29</td>\n",
       "      <td>NaN</td>\n",
       "      <td>0.0</td>\n",
       "      <td>https://www.bottle-neck.fr/?post_type=product&amp;...</td>\n",
       "      <td>0.0</td>\n",
       "      <td>product</td>\n",
       "      <td>NaN</td>\n",
       "      <td>0.0</td>\n",
       "    </tr>\n",
       "    <tr>\n",
       "      <th>2</th>\n",
       "      <td>15296</td>\n",
       "      <td>0</td>\n",
       "      <td>0</td>\n",
       "      <td>0</td>\n",
       "      <td>0.0</td>\n",
       "      <td>0.0</td>\n",
       "      <td>taxable</td>\n",
       "      <td>NaN</td>\n",
       "      <td>2.0</td>\n",
       "      <td>2018-02-08 13:49:41</td>\n",
       "      <td>...</td>\n",
       "      <td>pierre-jean-villa-saint-joseph-tilde-2017</td>\n",
       "      <td>2019-12-21 09:00:17</td>\n",
       "      <td>2019-12-21 08:00:17</td>\n",
       "      <td>NaN</td>\n",
       "      <td>0.0</td>\n",
       "      <td>https://www.bottle-neck.fr/?post_type=product&amp;...</td>\n",
       "      <td>0.0</td>\n",
       "      <td>product</td>\n",
       "      <td>NaN</td>\n",
       "      <td>0.0</td>\n",
       "    </tr>\n",
       "    <tr>\n",
       "      <th>3</th>\n",
       "      <td>15300</td>\n",
       "      <td>0</td>\n",
       "      <td>0</td>\n",
       "      <td>0</td>\n",
       "      <td>0.0</td>\n",
       "      <td>0.0</td>\n",
       "      <td>taxable</td>\n",
       "      <td>NaN</td>\n",
       "      <td>2.0</td>\n",
       "      <td>2018-02-08 14:08:36</td>\n",
       "      <td>...</td>\n",
       "      <td>pierre-jean-villa-croze-hermitage-accroche-coe...</td>\n",
       "      <td>2020-06-26 18:15:03</td>\n",
       "      <td>2020-06-26 16:15:03</td>\n",
       "      <td>NaN</td>\n",
       "      <td>0.0</td>\n",
       "      <td>https://www.bottle-neck.fr/?post_type=product&amp;...</td>\n",
       "      <td>0.0</td>\n",
       "      <td>product</td>\n",
       "      <td>NaN</td>\n",
       "      <td>0.0</td>\n",
       "    </tr>\n",
       "    <tr>\n",
       "      <th>4</th>\n",
       "      <td>19814</td>\n",
       "      <td>0</td>\n",
       "      <td>0</td>\n",
       "      <td>0</td>\n",
       "      <td>0.0</td>\n",
       "      <td>3.0</td>\n",
       "      <td>taxable</td>\n",
       "      <td>NaN</td>\n",
       "      <td>2.0</td>\n",
       "      <td>2018-02-09 14:01:05</td>\n",
       "      <td>...</td>\n",
       "      <td>pierre-jean-villa-igp-gamine-2018</td>\n",
       "      <td>2020-01-04 16:36:01</td>\n",
       "      <td>2020-01-04 15:36:01</td>\n",
       "      <td>NaN</td>\n",
       "      <td>0.0</td>\n",
       "      <td>https://www.bottle-neck.fr/?post_type=product&amp;...</td>\n",
       "      <td>0.0</td>\n",
       "      <td>product</td>\n",
       "      <td>NaN</td>\n",
       "      <td>0.0</td>\n",
       "    </tr>\n",
       "  </tbody>\n",
       "</table>\n",
       "<p>5 rows × 28 columns</p>\n",
       "</div>"
      ],
      "text/plain": [
       "                   sku  virtual  downloadable  rating_count  average_rating  \\\n",
       "0  bon-cadeau-25-euros        0             0             0             0.0   \n",
       "1                15298        0             0             0             0.0   \n",
       "2                15296        0             0             0             0.0   \n",
       "3                15300        0             0             0             0.0   \n",
       "4                19814        0             0             0             0.0   \n",
       "\n",
       "   total_sales tax_status  tax_class  post_author           post_date  ...  \\\n",
       "0         10.0    taxable        NaN          1.0 2018-06-01 13:53:46  ...   \n",
       "1          6.0    taxable        NaN          2.0 2018-02-08 12:58:52  ...   \n",
       "2          0.0    taxable        NaN          2.0 2018-02-08 13:49:41  ...   \n",
       "3          0.0    taxable        NaN          2.0 2018-02-08 14:08:36  ...   \n",
       "4          3.0    taxable        NaN          2.0 2018-02-09 14:01:05  ...   \n",
       "\n",
       "                                           post_name       post_modified  \\\n",
       "0                             bon-cadeau-de-25-euros 2018-06-01 14:13:57   \n",
       "1        pierre-jean-villa-saint-joseph-preface-2018 2019-12-30 09:30:29   \n",
       "2          pierre-jean-villa-saint-joseph-tilde-2017 2019-12-21 09:00:17   \n",
       "3  pierre-jean-villa-croze-hermitage-accroche-coe... 2020-06-26 18:15:03   \n",
       "4                  pierre-jean-villa-igp-gamine-2018 2020-01-04 16:36:01   \n",
       "\n",
       "    post_modified_gmt post_content_filtered post_parent  \\\n",
       "0 2018-06-01 12:13:57                   NaN         0.0   \n",
       "1 2019-12-30 08:30:29                   NaN         0.0   \n",
       "2 2019-12-21 08:00:17                   NaN         0.0   \n",
       "3 2020-06-26 16:15:03                   NaN         0.0   \n",
       "4 2020-01-04 15:36:01                   NaN         0.0   \n",
       "\n",
       "                                                guid menu_order  post_type  \\\n",
       "0  https://www.bottle-neck.fr/?post_type=product&...        0.0    product   \n",
       "1  https://www.bottle-neck.fr/?post_type=product&...        0.0    product   \n",
       "2  https://www.bottle-neck.fr/?post_type=product&...        0.0    product   \n",
       "3  https://www.bottle-neck.fr/?post_type=product&...        0.0    product   \n",
       "4  https://www.bottle-neck.fr/?post_type=product&...        0.0    product   \n",
       "\n",
       "  post_mime_type comment_count  \n",
       "0            NaN           0.0  \n",
       "1            NaN           0.0  \n",
       "2            NaN           0.0  \n",
       "3            NaN           0.0  \n",
       "4            NaN           0.0  \n",
       "\n",
       "[5 rows x 28 columns]"
      ]
     },
     "execution_count": 6,
     "metadata": {},
     "output_type": "execute_result"
    }
   ],
   "source": [
    "web.head()"
   ]
  },
  {
   "cell_type": "markdown",
   "id": "8fc744c6",
   "metadata": {},
   "source": [
    "### 2.2.3 - Suppression des séries comportant une valeur unique."
   ]
  },
  {
   "cell_type": "markdown",
   "id": "bb3128f8",
   "metadata": {},
   "source": [
    "#### Calcul du nombre de valeurs uniques dans le dataframe et suppression des colonnes n'ayant qu'une valeur unique:\n",
    "#### - Création du dataframe \"web_unique\" qui contient le nombre de valeurs uniques pour chaque colonne de \"web\".\n",
    "#### - La fonction \"Series.unique\" obtient le nombre de valeurs uniques pour chaque colonne.\n",
    "#### - La variable \"drop_col\" contient les index de \"web_unique\", par indexation booléenne, vérifiant ainsi quelles colonnes n'ont qu'une seule valeur unique.\n",
    "#### - Suppression des séries de \"web\" qui ont été identifiées comme n'ayant qu'une seule valeur unique, à l'aide de la fonction \".drop\", le tout dans l'axe des colonnes (axis=1)."
   ]
  },
  {
   "cell_type": "code",
   "execution_count": 7,
   "id": "b1c1f5d5",
   "metadata": {},
   "outputs": [],
   "source": [
    "web_unique = web.apply(pd.Series.nunique)\n",
    "drop_col = web_unique[web_unique  == 1].index\n",
    "web = web.drop(drop_col, axis=1)"
   ]
  },
  {
   "cell_type": "markdown",
   "id": "bb1c0717",
   "metadata": {},
   "source": [
    "### 2.2.4 - Vérification de la suppression des séries comportant les valeurs uniques"
   ]
  },
  {
   "cell_type": "code",
   "execution_count": 8,
   "id": "a046e8e1",
   "metadata": {},
   "outputs": [
    {
     "data": {
      "text/html": [
       "<div>\n",
       "<style scoped>\n",
       "    .dataframe tbody tr th:only-of-type {\n",
       "        vertical-align: middle;\n",
       "    }\n",
       "\n",
       "    .dataframe tbody tr th {\n",
       "        vertical-align: top;\n",
       "    }\n",
       "\n",
       "    .dataframe thead th {\n",
       "        text-align: right;\n",
       "    }\n",
       "</style>\n",
       "<table border=\"1\" class=\"dataframe\">\n",
       "  <thead>\n",
       "    <tr style=\"text-align: right;\">\n",
       "      <th></th>\n",
       "      <th>sku</th>\n",
       "      <th>total_sales</th>\n",
       "      <th>tax_class</th>\n",
       "      <th>post_author</th>\n",
       "      <th>post_date</th>\n",
       "      <th>post_date_gmt</th>\n",
       "      <th>post_content</th>\n",
       "      <th>post_title</th>\n",
       "      <th>post_excerpt</th>\n",
       "      <th>post_password</th>\n",
       "      <th>post_name</th>\n",
       "      <th>post_modified</th>\n",
       "      <th>post_modified_gmt</th>\n",
       "      <th>post_content_filtered</th>\n",
       "      <th>guid</th>\n",
       "      <th>post_type</th>\n",
       "    </tr>\n",
       "  </thead>\n",
       "  <tbody>\n",
       "    <tr>\n",
       "      <th>0</th>\n",
       "      <td>bon-cadeau-25-euros</td>\n",
       "      <td>10.0</td>\n",
       "      <td>NaN</td>\n",
       "      <td>1.0</td>\n",
       "      <td>2018-06-01 13:53:46</td>\n",
       "      <td>2018-06-01 11:53:46</td>\n",
       "      <td>NaN</td>\n",
       "      <td>Bon cadeau de 25€</td>\n",
       "      <td>&lt;span style=\"color: #a85253;\"&gt;&lt;strong&gt;Parlons ...</td>\n",
       "      <td>NaN</td>\n",
       "      <td>bon-cadeau-de-25-euros</td>\n",
       "      <td>2018-06-01 14:13:57</td>\n",
       "      <td>2018-06-01 12:13:57</td>\n",
       "      <td>NaN</td>\n",
       "      <td>https://www.bottle-neck.fr/?post_type=product&amp;...</td>\n",
       "      <td>product</td>\n",
       "    </tr>\n",
       "    <tr>\n",
       "      <th>1</th>\n",
       "      <td>15298</td>\n",
       "      <td>6.0</td>\n",
       "      <td>NaN</td>\n",
       "      <td>2.0</td>\n",
       "      <td>2018-02-08 12:58:52</td>\n",
       "      <td>2018-02-08 11:58:52</td>\n",
       "      <td>NaN</td>\n",
       "      <td>Pierre Jean Villa Saint-Joseph Préface 2018</td>\n",
       "      <td>Il exhale un nez subtil, racé avec du poivre f...</td>\n",
       "      <td>NaN</td>\n",
       "      <td>pierre-jean-villa-saint-joseph-preface-2018</td>\n",
       "      <td>2019-12-30 09:30:29</td>\n",
       "      <td>2019-12-30 08:30:29</td>\n",
       "      <td>NaN</td>\n",
       "      <td>https://www.bottle-neck.fr/?post_type=product&amp;...</td>\n",
       "      <td>product</td>\n",
       "    </tr>\n",
       "    <tr>\n",
       "      <th>2</th>\n",
       "      <td>15296</td>\n",
       "      <td>0.0</td>\n",
       "      <td>NaN</td>\n",
       "      <td>2.0</td>\n",
       "      <td>2018-02-08 13:49:41</td>\n",
       "      <td>2018-02-08 12:49:41</td>\n",
       "      <td>NaN</td>\n",
       "      <td>Pierre Jean Villa Saint-Joseph Rouge Tildé 2017</td>\n",
       "      <td>Les vieilles vignes lui apportent une rare pro...</td>\n",
       "      <td>NaN</td>\n",
       "      <td>pierre-jean-villa-saint-joseph-tilde-2017</td>\n",
       "      <td>2019-12-21 09:00:17</td>\n",
       "      <td>2019-12-21 08:00:17</td>\n",
       "      <td>NaN</td>\n",
       "      <td>https://www.bottle-neck.fr/?post_type=product&amp;...</td>\n",
       "      <td>product</td>\n",
       "    </tr>\n",
       "    <tr>\n",
       "      <th>3</th>\n",
       "      <td>15300</td>\n",
       "      <td>0.0</td>\n",
       "      <td>NaN</td>\n",
       "      <td>2.0</td>\n",
       "      <td>2018-02-08 14:08:36</td>\n",
       "      <td>2018-02-08 13:08:36</td>\n",
       "      <td>NaN</td>\n",
       "      <td>Pierre Jean Villa Crozes-Hermitage Accroche Co...</td>\n",
       "      <td>Dentelle de fruit de jeunes syrah, aux tanins ...</td>\n",
       "      <td>NaN</td>\n",
       "      <td>pierre-jean-villa-croze-hermitage-accroche-coe...</td>\n",
       "      <td>2020-06-26 18:15:03</td>\n",
       "      <td>2020-06-26 16:15:03</td>\n",
       "      <td>NaN</td>\n",
       "      <td>https://www.bottle-neck.fr/?post_type=product&amp;...</td>\n",
       "      <td>product</td>\n",
       "    </tr>\n",
       "    <tr>\n",
       "      <th>4</th>\n",
       "      <td>19814</td>\n",
       "      <td>3.0</td>\n",
       "      <td>NaN</td>\n",
       "      <td>2.0</td>\n",
       "      <td>2018-02-09 14:01:05</td>\n",
       "      <td>2018-02-09 13:01:05</td>\n",
       "      <td>NaN</td>\n",
       "      <td>Pierre Jean Villa IGP Collines Rhodaniennes Ga...</td>\n",
       "      <td>Gamine représente tout le fruité et la gourman...</td>\n",
       "      <td>NaN</td>\n",
       "      <td>pierre-jean-villa-igp-gamine-2018</td>\n",
       "      <td>2020-01-04 16:36:01</td>\n",
       "      <td>2020-01-04 15:36:01</td>\n",
       "      <td>NaN</td>\n",
       "      <td>https://www.bottle-neck.fr/?post_type=product&amp;...</td>\n",
       "      <td>product</td>\n",
       "    </tr>\n",
       "  </tbody>\n",
       "</table>\n",
       "</div>"
      ],
      "text/plain": [
       "                   sku  total_sales  tax_class  post_author  \\\n",
       "0  bon-cadeau-25-euros         10.0        NaN          1.0   \n",
       "1                15298          6.0        NaN          2.0   \n",
       "2                15296          0.0        NaN          2.0   \n",
       "3                15300          0.0        NaN          2.0   \n",
       "4                19814          3.0        NaN          2.0   \n",
       "\n",
       "            post_date       post_date_gmt  post_content  \\\n",
       "0 2018-06-01 13:53:46 2018-06-01 11:53:46           NaN   \n",
       "1 2018-02-08 12:58:52 2018-02-08 11:58:52           NaN   \n",
       "2 2018-02-08 13:49:41 2018-02-08 12:49:41           NaN   \n",
       "3 2018-02-08 14:08:36 2018-02-08 13:08:36           NaN   \n",
       "4 2018-02-09 14:01:05 2018-02-09 13:01:05           NaN   \n",
       "\n",
       "                                          post_title  \\\n",
       "0                                  Bon cadeau de 25€   \n",
       "1        Pierre Jean Villa Saint-Joseph Préface 2018   \n",
       "2    Pierre Jean Villa Saint-Joseph Rouge Tildé 2017   \n",
       "3  Pierre Jean Villa Crozes-Hermitage Accroche Co...   \n",
       "4  Pierre Jean Villa IGP Collines Rhodaniennes Ga...   \n",
       "\n",
       "                                        post_excerpt  post_password  \\\n",
       "0  <span style=\"color: #a85253;\"><strong>Parlons ...            NaN   \n",
       "1  Il exhale un nez subtil, racé avec du poivre f...            NaN   \n",
       "2  Les vieilles vignes lui apportent une rare pro...            NaN   \n",
       "3  Dentelle de fruit de jeunes syrah, aux tanins ...            NaN   \n",
       "4  Gamine représente tout le fruité et la gourman...            NaN   \n",
       "\n",
       "                                           post_name       post_modified  \\\n",
       "0                             bon-cadeau-de-25-euros 2018-06-01 14:13:57   \n",
       "1        pierre-jean-villa-saint-joseph-preface-2018 2019-12-30 09:30:29   \n",
       "2          pierre-jean-villa-saint-joseph-tilde-2017 2019-12-21 09:00:17   \n",
       "3  pierre-jean-villa-croze-hermitage-accroche-coe... 2020-06-26 18:15:03   \n",
       "4                  pierre-jean-villa-igp-gamine-2018 2020-01-04 16:36:01   \n",
       "\n",
       "    post_modified_gmt  post_content_filtered  \\\n",
       "0 2018-06-01 12:13:57                    NaN   \n",
       "1 2019-12-30 08:30:29                    NaN   \n",
       "2 2019-12-21 08:00:17                    NaN   \n",
       "3 2020-06-26 16:15:03                    NaN   \n",
       "4 2020-01-04 15:36:01                    NaN   \n",
       "\n",
       "                                                guid post_type  \n",
       "0  https://www.bottle-neck.fr/?post_type=product&...   product  \n",
       "1  https://www.bottle-neck.fr/?post_type=product&...   product  \n",
       "2  https://www.bottle-neck.fr/?post_type=product&...   product  \n",
       "3  https://www.bottle-neck.fr/?post_type=product&...   product  \n",
       "4  https://www.bottle-neck.fr/?post_type=product&...   product  "
      ]
     },
     "execution_count": 8,
     "metadata": {},
     "output_type": "execute_result"
    }
   ],
   "source": [
    "web.head()"
   ]
  },
  {
   "cell_type": "markdown",
   "id": "cafa36b7",
   "metadata": {},
   "source": [
    "#### Les séries comportant des valeurs uniques ont bien été supprimées"
   ]
  },
  {
   "cell_type": "markdown",
   "id": "dcb5afa7",
   "metadata": {},
   "source": [
    "###  2.2.5 - Comptage des valeurs NULL "
   ]
  },
  {
   "cell_type": "code",
   "execution_count": 9,
   "id": "56e8bc47",
   "metadata": {},
   "outputs": [
    {
     "data": {
      "text/plain": [
       "sku                        85\n",
       "total_sales                83\n",
       "tax_class                1513\n",
       "post_author                83\n",
       "post_date                  83\n",
       "post_date_gmt              83\n",
       "post_content             1513\n",
       "post_title                 83\n",
       "post_excerpt              797\n",
       "post_password            1513\n",
       "post_name                  83\n",
       "post_modified              83\n",
       "post_modified_gmt          83\n",
       "post_content_filtered    1513\n",
       "guid                       83\n",
       "post_type                  83\n",
       "dtype: int64"
      ]
     },
     "execution_count": 9,
     "metadata": {},
     "output_type": "execute_result"
    }
   ],
   "source": [
    "web.isnull().sum()"
   ]
  },
  {
   "cell_type": "code",
   "execution_count": 10,
   "id": "22e7c0c3",
   "metadata": {},
   "outputs": [
    {
     "data": {
      "text/plain": [
       "85"
      ]
     },
     "execution_count": 10,
     "metadata": {},
     "output_type": "execute_result"
    }
   ],
   "source": [
    "web[\"sku\"].isnull().sum()"
   ]
  },
  {
   "cell_type": "markdown",
   "id": "ab6521da",
   "metadata": {},
   "source": [
    "### 2.2.6 - Suppression des lignes où sku comporte une valeur nulle"
   ]
  },
  {
   "cell_type": "code",
   "execution_count": 11,
   "id": "ea02284f",
   "metadata": {},
   "outputs": [
    {
     "data": {
      "text/plain": [
       "sku                         0\n",
       "total_sales                 0\n",
       "tax_class                1428\n",
       "post_author                 0\n",
       "post_date                   0\n",
       "post_date_gmt               0\n",
       "post_content             1428\n",
       "post_title                  0\n",
       "post_excerpt              714\n",
       "post_password            1428\n",
       "post_name                   0\n",
       "post_modified               0\n",
       "post_modified_gmt           0\n",
       "post_content_filtered    1428\n",
       "guid                        0\n",
       "post_type                   0\n",
       "dtype: int64"
      ]
     },
     "execution_count": 11,
     "metadata": {},
     "output_type": "execute_result"
    }
   ],
   "source": [
    "web = web.dropna(subset=[\"sku\"])\n",
    "web.isnull().sum()"
   ]
  },
  {
   "cell_type": "markdown",
   "id": "cd9f96aa",
   "metadata": {},
   "source": [
    "### La série \"SKU\" ne comporte plus de valeur nulle"
   ]
  },
  {
   "cell_type": "code",
   "execution_count": 12,
   "id": "146d4816",
   "metadata": {},
   "outputs": [
    {
     "name": "stdout",
     "output_type": "stream",
     "text": [
      "<class 'pandas.core.frame.DataFrame'>\n",
      "Int64Index: 1428 entries, 0 to 1512\n",
      "Data columns (total 16 columns):\n",
      " #   Column                 Non-Null Count  Dtype         \n",
      "---  ------                 --------------  -----         \n",
      " 0   sku                    1428 non-null   object        \n",
      " 1   total_sales            1428 non-null   float64       \n",
      " 2   tax_class              0 non-null      float64       \n",
      " 3   post_author            1428 non-null   float64       \n",
      " 4   post_date              1428 non-null   datetime64[ns]\n",
      " 5   post_date_gmt          1428 non-null   datetime64[ns]\n",
      " 6   post_content           0 non-null      float64       \n",
      " 7   post_title             1428 non-null   object        \n",
      " 8   post_excerpt           714 non-null    object        \n",
      " 9   post_password          0 non-null      float64       \n",
      " 10  post_name              1428 non-null   object        \n",
      " 11  post_modified          1428 non-null   datetime64[ns]\n",
      " 12  post_modified_gmt      1428 non-null   datetime64[ns]\n",
      " 13  post_content_filtered  0 non-null      float64       \n",
      " 14  guid                   1428 non-null   object        \n",
      " 15  post_type              1428 non-null   object        \n",
      "dtypes: datetime64[ns](4), float64(6), object(6)\n",
      "memory usage: 189.7+ KB\n"
     ]
    }
   ],
   "source": [
    "web.info()"
   ]
  },
  {
   "cell_type": "markdown",
   "id": "60a75320",
   "metadata": {},
   "source": [
    "#### le dataframe \"WEB\" comporte à présent 1428 lignes."
   ]
  },
  {
   "cell_type": "markdown",
   "id": "3cad208f",
   "metadata": {},
   "source": [
    "### 2.2.7 - Renommage \"sku\" en \"id_web\" pour une fusion à venir"
   ]
  },
  {
   "cell_type": "code",
   "execution_count": 13,
   "id": "b7e236ed",
   "metadata": {},
   "outputs": [
    {
     "data": {
      "text/plain": [
       "Index(['id_web', 'total_sales', 'tax_class', 'post_author', 'post_date',\n",
       "       'post_date_gmt', 'post_content', 'post_title', 'post_excerpt',\n",
       "       'post_password', 'post_name', 'post_modified', 'post_modified_gmt',\n",
       "       'post_content_filtered', 'guid', 'post_type'],\n",
       "      dtype='object')"
      ]
     },
     "execution_count": 13,
     "metadata": {},
     "output_type": "execute_result"
    }
   ],
   "source": [
    "web.rename(columns = {\"sku\" : \"id_web\"},inplace = True)\n",
    "web.columns"
   ]
  },
  {
   "cell_type": "markdown",
   "id": "35f6856d",
   "metadata": {},
   "source": [
    "#### La série \"SKU\" a bien été renomée \"id_web\""
   ]
  },
  {
   "cell_type": "markdown",
   "id": "680c4686",
   "metadata": {},
   "source": [
    "### <u>2.3 - LIAISON</u>"
   ]
  },
  {
   "cell_type": "markdown",
   "id": "7300564e",
   "metadata": {},
   "source": [
    "### 2.3.1 - Informations du dataframe"
   ]
  },
  {
   "cell_type": "code",
   "execution_count": 14,
   "id": "ec3d67e3",
   "metadata": {},
   "outputs": [
    {
     "name": "stdout",
     "output_type": "stream",
     "text": [
      "<class 'pandas.core.frame.DataFrame'>\n",
      "RangeIndex: 825 entries, 0 to 824\n",
      "Data columns (total 2 columns):\n",
      " #   Column      Non-Null Count  Dtype \n",
      "---  ------      --------------  ----- \n",
      " 0   product_id  825 non-null    int64 \n",
      " 1   id_web      734 non-null    object\n",
      "dtypes: int64(1), object(1)\n",
      "memory usage: 13.0+ KB\n"
     ]
    }
   ],
   "source": [
    "liaison.info()"
   ]
  },
  {
   "cell_type": "markdown",
   "id": "b050b6ea",
   "metadata": {},
   "source": [
    "#### Le dataframe <u>LIAISON</u> compte 825 lignes (indexées de 0 à 824) ne comportant aucune valeur NULL et 2 colonnes dont 1 est de  type \"int\" et 1 de type \"object\"."
   ]
  },
  {
   "cell_type": "markdown",
   "id": "40d058cc",
   "metadata": {},
   "source": [
    "### 2.3.2 - Visualisation des séries"
   ]
  },
  {
   "cell_type": "code",
   "execution_count": 15,
   "id": "e37ac487",
   "metadata": {},
   "outputs": [
    {
     "data": {
      "text/html": [
       "<div>\n",
       "<style scoped>\n",
       "    .dataframe tbody tr th:only-of-type {\n",
       "        vertical-align: middle;\n",
       "    }\n",
       "\n",
       "    .dataframe tbody tr th {\n",
       "        vertical-align: top;\n",
       "    }\n",
       "\n",
       "    .dataframe thead th {\n",
       "        text-align: right;\n",
       "    }\n",
       "</style>\n",
       "<table border=\"1\" class=\"dataframe\">\n",
       "  <thead>\n",
       "    <tr style=\"text-align: right;\">\n",
       "      <th></th>\n",
       "      <th>product_id</th>\n",
       "      <th>id_web</th>\n",
       "    </tr>\n",
       "  </thead>\n",
       "  <tbody>\n",
       "    <tr>\n",
       "      <th>0</th>\n",
       "      <td>3847</td>\n",
       "      <td>15298</td>\n",
       "    </tr>\n",
       "    <tr>\n",
       "      <th>1</th>\n",
       "      <td>3849</td>\n",
       "      <td>15296</td>\n",
       "    </tr>\n",
       "    <tr>\n",
       "      <th>2</th>\n",
       "      <td>3850</td>\n",
       "      <td>15300</td>\n",
       "    </tr>\n",
       "    <tr>\n",
       "      <th>3</th>\n",
       "      <td>4032</td>\n",
       "      <td>19814</td>\n",
       "    </tr>\n",
       "    <tr>\n",
       "      <th>4</th>\n",
       "      <td>4039</td>\n",
       "      <td>19815</td>\n",
       "    </tr>\n",
       "  </tbody>\n",
       "</table>\n",
       "</div>"
      ],
      "text/plain": [
       "   product_id id_web\n",
       "0        3847  15298\n",
       "1        3849  15296\n",
       "2        3850  15300\n",
       "3        4032  19814\n",
       "4        4039  19815"
      ]
     },
     "execution_count": 15,
     "metadata": {},
     "output_type": "execute_result"
    }
   ],
   "source": [
    "liaison.head()"
   ]
  },
  {
   "cell_type": "markdown",
   "id": "ebb82dde",
   "metadata": {},
   "source": [
    "## <u>3 - Vérification unicité des clés primaires</u>"
   ]
  },
  {
   "cell_type": "markdown",
   "id": "6f28c704",
   "metadata": {},
   "source": [
    "### 3.1 - Dataframe ERP"
   ]
  },
  {
   "cell_type": "code",
   "execution_count": 16,
   "id": "ab39c96d",
   "metadata": {},
   "outputs": [
    {
     "data": {
      "text/plain": [
       "0"
      ]
     },
     "execution_count": 16,
     "metadata": {},
     "output_type": "execute_result"
    }
   ],
   "source": [
    "(erp[\"product_id\"].duplicated()).sum()"
   ]
  },
  {
   "cell_type": "markdown",
   "id": "0da8881a",
   "metadata": {},
   "source": [
    "#### Il n'y a aucun doublon dans les clés primaire du dataframe ERP."
   ]
  },
  {
   "cell_type": "markdown",
   "id": "f336816a",
   "metadata": {},
   "source": [
    "### 3.2 - Dataframe WEB"
   ]
  },
  {
   "cell_type": "code",
   "execution_count": 17,
   "id": "0e9f7fe4",
   "metadata": {},
   "outputs": [
    {
     "data": {
      "text/plain": [
       "714"
      ]
     },
     "execution_count": 17,
     "metadata": {},
     "output_type": "execute_result"
    }
   ],
   "source": [
    "(web[\"id_web\"].duplicated()).sum()"
   ]
  },
  {
   "cell_type": "markdown",
   "id": "d5cc8eca",
   "metadata": {},
   "source": [
    "#### Le dataframe WEB comporte 715 doublons dans ses clés primaires."
   ]
  },
  {
   "cell_type": "markdown",
   "id": "1d7e4718",
   "metadata": {},
   "source": [
    "### 3.2.1 - Visualisation des valeurs en doublon."
   ]
  },
  {
   "cell_type": "code",
   "execution_count": 18,
   "id": "2217906a",
   "metadata": {},
   "outputs": [
    {
     "data": {
      "text/html": [
       "<div>\n",
       "<style scoped>\n",
       "    .dataframe tbody tr th:only-of-type {\n",
       "        vertical-align: middle;\n",
       "    }\n",
       "\n",
       "    .dataframe tbody tr th {\n",
       "        vertical-align: top;\n",
       "    }\n",
       "\n",
       "    .dataframe thead th {\n",
       "        text-align: right;\n",
       "    }\n",
       "</style>\n",
       "<table border=\"1\" class=\"dataframe\">\n",
       "  <thead>\n",
       "    <tr style=\"text-align: right;\">\n",
       "      <th></th>\n",
       "      <th>id_web</th>\n",
       "    </tr>\n",
       "    <tr>\n",
       "      <th>id_web</th>\n",
       "      <th></th>\n",
       "    </tr>\n",
       "  </thead>\n",
       "  <tbody>\n",
       "    <tr>\n",
       "      <th>38</th>\n",
       "      <td>2</td>\n",
       "    </tr>\n",
       "    <tr>\n",
       "      <th>41</th>\n",
       "      <td>2</td>\n",
       "    </tr>\n",
       "    <tr>\n",
       "      <th>304</th>\n",
       "      <td>2</td>\n",
       "    </tr>\n",
       "    <tr>\n",
       "      <th>523</th>\n",
       "      <td>2</td>\n",
       "    </tr>\n",
       "    <tr>\n",
       "      <th>531</th>\n",
       "      <td>2</td>\n",
       "    </tr>\n",
       "    <tr>\n",
       "      <th>...</th>\n",
       "      <td>...</td>\n",
       "    </tr>\n",
       "    <tr>\n",
       "      <th>19820</th>\n",
       "      <td>2</td>\n",
       "    </tr>\n",
       "    <tr>\n",
       "      <th>19821</th>\n",
       "      <td>2</td>\n",
       "    </tr>\n",
       "    <tr>\n",
       "      <th>19822</th>\n",
       "      <td>2</td>\n",
       "    </tr>\n",
       "    <tr>\n",
       "      <th>13127-1</th>\n",
       "      <td>2</td>\n",
       "    </tr>\n",
       "    <tr>\n",
       "      <th>bon-cadeau-25-euros</th>\n",
       "      <td>2</td>\n",
       "    </tr>\n",
       "  </tbody>\n",
       "</table>\n",
       "<p>714 rows × 1 columns</p>\n",
       "</div>"
      ],
      "text/plain": [
       "                     id_web\n",
       "id_web                     \n",
       "38                        2\n",
       "41                        2\n",
       "304                       2\n",
       "523                       2\n",
       "531                       2\n",
       "...                     ...\n",
       "19820                     2\n",
       "19821                     2\n",
       "19822                     2\n",
       "13127-1                   2\n",
       "bon-cadeau-25-euros       2\n",
       "\n",
       "[714 rows x 1 columns]"
      ]
     },
     "execution_count": 18,
     "metadata": {},
     "output_type": "execute_result"
    }
   ],
   "source": [
    "web.groupby(\"id_web\").agg({\"id_web\":\"count\"})"
   ]
  },
  {
   "cell_type": "markdown",
   "id": "a8f4130c",
   "metadata": {},
   "source": [
    "### 3.2.2 - Visualisation d'échantillons de doublons"
   ]
  },
  {
   "cell_type": "code",
   "execution_count": 19,
   "id": "85a05afa",
   "metadata": {},
   "outputs": [
    {
     "data": {
      "text/html": [
       "<div>\n",
       "<style scoped>\n",
       "    .dataframe tbody tr th:only-of-type {\n",
       "        vertical-align: middle;\n",
       "    }\n",
       "\n",
       "    .dataframe tbody tr th {\n",
       "        vertical-align: top;\n",
       "    }\n",
       "\n",
       "    .dataframe thead th {\n",
       "        text-align: right;\n",
       "    }\n",
       "</style>\n",
       "<table border=\"1\" class=\"dataframe\">\n",
       "  <thead>\n",
       "    <tr style=\"text-align: right;\">\n",
       "      <th></th>\n",
       "      <th>id_web</th>\n",
       "      <th>total_sales</th>\n",
       "      <th>tax_class</th>\n",
       "      <th>post_author</th>\n",
       "      <th>post_date</th>\n",
       "      <th>post_date_gmt</th>\n",
       "      <th>post_content</th>\n",
       "      <th>post_title</th>\n",
       "      <th>post_excerpt</th>\n",
       "      <th>post_password</th>\n",
       "      <th>post_name</th>\n",
       "      <th>post_modified</th>\n",
       "      <th>post_modified_gmt</th>\n",
       "      <th>post_content_filtered</th>\n",
       "      <th>guid</th>\n",
       "      <th>post_type</th>\n",
       "    </tr>\n",
       "  </thead>\n",
       "  <tbody>\n",
       "    <tr>\n",
       "      <th>339</th>\n",
       "      <td>38</td>\n",
       "      <td>38.0</td>\n",
       "      <td>NaN</td>\n",
       "      <td>2.0</td>\n",
       "      <td>2018-04-18 12:25:58</td>\n",
       "      <td>2018-04-18 10:25:58</td>\n",
       "      <td>NaN</td>\n",
       "      <td>Emile Boeckel Crémant Brut Blanc de Blancs</td>\n",
       "      <td>Ce Crémant est vif et délicat, gourmand et cro...</td>\n",
       "      <td>NaN</td>\n",
       "      <td>emile-boeckel-cremant-brut-blanc-de-blancs</td>\n",
       "      <td>2020-08-27 17:15:03</td>\n",
       "      <td>2020-08-27 15:15:03</td>\n",
       "      <td>NaN</td>\n",
       "      <td>https://www.bottle-neck.fr/?post_type=product&amp;...</td>\n",
       "      <td>product</td>\n",
       "    </tr>\n",
       "    <tr>\n",
       "      <th>1123</th>\n",
       "      <td>38</td>\n",
       "      <td>38.0</td>\n",
       "      <td>NaN</td>\n",
       "      <td>2.0</td>\n",
       "      <td>2018-04-18 12:25:58</td>\n",
       "      <td>2018-04-18 10:25:58</td>\n",
       "      <td>NaN</td>\n",
       "      <td>Emile Boeckel Crémant Brut Blanc de Blancs</td>\n",
       "      <td>NaN</td>\n",
       "      <td>NaN</td>\n",
       "      <td>emile-boeckel-cremant-brut-blanc-de-blancs</td>\n",
       "      <td>2020-08-27 17:15:03</td>\n",
       "      <td>2020-08-27 15:15:03</td>\n",
       "      <td>NaN</td>\n",
       "      <td>https://www.bottle-neck.fr/wp-content/uploads/...</td>\n",
       "      <td>attachment</td>\n",
       "    </tr>\n",
       "  </tbody>\n",
       "</table>\n",
       "</div>"
      ],
      "text/plain": [
       "     id_web  total_sales  tax_class  post_author           post_date  \\\n",
       "339      38         38.0        NaN          2.0 2018-04-18 12:25:58   \n",
       "1123     38         38.0        NaN          2.0 2018-04-18 12:25:58   \n",
       "\n",
       "           post_date_gmt  post_content  \\\n",
       "339  2018-04-18 10:25:58           NaN   \n",
       "1123 2018-04-18 10:25:58           NaN   \n",
       "\n",
       "                                      post_title  \\\n",
       "339   Emile Boeckel Crémant Brut Blanc de Blancs   \n",
       "1123  Emile Boeckel Crémant Brut Blanc de Blancs   \n",
       "\n",
       "                                           post_excerpt  post_password  \\\n",
       "339   Ce Crémant est vif et délicat, gourmand et cro...            NaN   \n",
       "1123                                                NaN            NaN   \n",
       "\n",
       "                                       post_name       post_modified  \\\n",
       "339   emile-boeckel-cremant-brut-blanc-de-blancs 2020-08-27 17:15:03   \n",
       "1123  emile-boeckel-cremant-brut-blanc-de-blancs 2020-08-27 17:15:03   \n",
       "\n",
       "       post_modified_gmt  post_content_filtered  \\\n",
       "339  2020-08-27 15:15:03                    NaN   \n",
       "1123 2020-08-27 15:15:03                    NaN   \n",
       "\n",
       "                                                   guid   post_type  \n",
       "339   https://www.bottle-neck.fr/?post_type=product&...     product  \n",
       "1123  https://www.bottle-neck.fr/wp-content/uploads/...  attachment  "
      ]
     },
     "execution_count": 19,
     "metadata": {},
     "output_type": "execute_result"
    }
   ],
   "source": [
    "web.loc[web[\"id_web\"] == 38]"
   ]
  },
  {
   "cell_type": "code",
   "execution_count": 20,
   "id": "e6627bb7",
   "metadata": {
    "scrolled": true
   },
   "outputs": [
    {
     "data": {
      "text/html": [
       "<div>\n",
       "<style scoped>\n",
       "    .dataframe tbody tr th:only-of-type {\n",
       "        vertical-align: middle;\n",
       "    }\n",
       "\n",
       "    .dataframe tbody tr th {\n",
       "        vertical-align: top;\n",
       "    }\n",
       "\n",
       "    .dataframe thead th {\n",
       "        text-align: right;\n",
       "    }\n",
       "</style>\n",
       "<table border=\"1\" class=\"dataframe\">\n",
       "  <thead>\n",
       "    <tr style=\"text-align: right;\">\n",
       "      <th></th>\n",
       "      <th>id_web</th>\n",
       "      <th>total_sales</th>\n",
       "      <th>tax_class</th>\n",
       "      <th>post_author</th>\n",
       "      <th>post_date</th>\n",
       "      <th>post_date_gmt</th>\n",
       "      <th>post_content</th>\n",
       "      <th>post_title</th>\n",
       "      <th>post_excerpt</th>\n",
       "      <th>post_password</th>\n",
       "      <th>post_name</th>\n",
       "      <th>post_modified</th>\n",
       "      <th>post_modified_gmt</th>\n",
       "      <th>post_content_filtered</th>\n",
       "      <th>guid</th>\n",
       "      <th>post_type</th>\n",
       "    </tr>\n",
       "  </thead>\n",
       "  <tbody>\n",
       "    <tr>\n",
       "      <th>525</th>\n",
       "      <td>19821</td>\n",
       "      <td>0.0</td>\n",
       "      <td>NaN</td>\n",
       "      <td>2.0</td>\n",
       "      <td>2018-11-26 10:56:30</td>\n",
       "      <td>2018-11-26 09:56:30</td>\n",
       "      <td>NaN</td>\n",
       "      <td>Tempier Bandol Tourtine 2017</td>\n",
       "      <td>&lt;div id=\"wrapper\"&gt;\\n&lt;div id=\"container-wrapper...</td>\n",
       "      <td>NaN</td>\n",
       "      <td>tempier-bandol-tourtine-2017</td>\n",
       "      <td>2019-11-02 12:59:24</td>\n",
       "      <td>2019-11-02 11:59:24</td>\n",
       "      <td>NaN</td>\n",
       "      <td>https://www.bottle-neck.fr/?post_type=product&amp;...</td>\n",
       "      <td>product</td>\n",
       "    </tr>\n",
       "    <tr>\n",
       "      <th>1299</th>\n",
       "      <td>19821</td>\n",
       "      <td>0.0</td>\n",
       "      <td>NaN</td>\n",
       "      <td>2.0</td>\n",
       "      <td>2018-11-26 10:56:30</td>\n",
       "      <td>2018-11-26 09:56:30</td>\n",
       "      <td>NaN</td>\n",
       "      <td>Tempier Bandol Tourtine 2017</td>\n",
       "      <td>NaN</td>\n",
       "      <td>NaN</td>\n",
       "      <td>tempier-bandol-tourtine-2017</td>\n",
       "      <td>2019-11-02 12:59:24</td>\n",
       "      <td>2019-11-02 11:59:24</td>\n",
       "      <td>NaN</td>\n",
       "      <td>https://www.bottle-neck.fr/wp-content/uploads/...</td>\n",
       "      <td>attachment</td>\n",
       "    </tr>\n",
       "  </tbody>\n",
       "</table>\n",
       "</div>"
      ],
      "text/plain": [
       "     id_web  total_sales  tax_class  post_author           post_date  \\\n",
       "525   19821          0.0        NaN          2.0 2018-11-26 10:56:30   \n",
       "1299  19821          0.0        NaN          2.0 2018-11-26 10:56:30   \n",
       "\n",
       "           post_date_gmt  post_content                    post_title  \\\n",
       "525  2018-11-26 09:56:30           NaN  Tempier Bandol Tourtine 2017   \n",
       "1299 2018-11-26 09:56:30           NaN  Tempier Bandol Tourtine 2017   \n",
       "\n",
       "                                           post_excerpt  post_password  \\\n",
       "525   <div id=\"wrapper\">\\n<div id=\"container-wrapper...            NaN   \n",
       "1299                                                NaN            NaN   \n",
       "\n",
       "                         post_name       post_modified   post_modified_gmt  \\\n",
       "525   tempier-bandol-tourtine-2017 2019-11-02 12:59:24 2019-11-02 11:59:24   \n",
       "1299  tempier-bandol-tourtine-2017 2019-11-02 12:59:24 2019-11-02 11:59:24   \n",
       "\n",
       "      post_content_filtered  \\\n",
       "525                     NaN   \n",
       "1299                    NaN   \n",
       "\n",
       "                                                   guid   post_type  \n",
       "525   https://www.bottle-neck.fr/?post_type=product&...     product  \n",
       "1299  https://www.bottle-neck.fr/wp-content/uploads/...  attachment  "
      ]
     },
     "execution_count": 20,
     "metadata": {},
     "output_type": "execute_result"
    }
   ],
   "source": [
    "web.loc[web[\"id_web\"] == 19821]"
   ]
  },
  {
   "cell_type": "markdown",
   "id": "a8022834",
   "metadata": {},
   "source": [
    "### 3.2.3 - Suppression des doublons des clés primaires"
   ]
  },
  {
   "cell_type": "code",
   "execution_count": 21,
   "id": "874173be",
   "metadata": {},
   "outputs": [],
   "source": [
    "web.drop_duplicates(subset=\"id_web\", keep=\"first\", inplace=True)"
   ]
  },
  {
   "cell_type": "markdown",
   "id": "8f09c3ab",
   "metadata": {},
   "source": [
    "#### J'utilise la fonction shape afin de renvoyer un tuple représentant la dimensionnalité du dataframe. (J'aurai pu aussi pu utiliser len(df) )"
   ]
  },
  {
   "cell_type": "code",
   "execution_count": 22,
   "id": "b22a1402",
   "metadata": {},
   "outputs": [
    {
     "data": {
      "text/plain": [
       "(714, 16)"
      ]
     },
     "execution_count": 22,
     "metadata": {},
     "output_type": "execute_result"
    }
   ],
   "source": [
    "web.drop_duplicates([\"id_web\"]).shape"
   ]
  },
  {
   "cell_type": "code",
   "execution_count": 23,
   "id": "b8d740ee",
   "metadata": {},
   "outputs": [],
   "source": [
    "#web= web[web[\"post_type\"]==\"product\"]"
   ]
  },
  {
   "cell_type": "code",
   "execution_count": 24,
   "id": "14980cb9",
   "metadata": {},
   "outputs": [
    {
     "name": "stdout",
     "output_type": "stream",
     "text": [
      "<class 'pandas.core.frame.DataFrame'>\n",
      "Int64Index: 714 entries, 0 to 798\n",
      "Data columns (total 16 columns):\n",
      " #   Column                 Non-Null Count  Dtype         \n",
      "---  ------                 --------------  -----         \n",
      " 0   id_web                 714 non-null    object        \n",
      " 1   total_sales            714 non-null    float64       \n",
      " 2   tax_class              0 non-null      float64       \n",
      " 3   post_author            714 non-null    float64       \n",
      " 4   post_date              714 non-null    datetime64[ns]\n",
      " 5   post_date_gmt          714 non-null    datetime64[ns]\n",
      " 6   post_content           0 non-null      float64       \n",
      " 7   post_title             714 non-null    object        \n",
      " 8   post_excerpt           714 non-null    object        \n",
      " 9   post_password          0 non-null      float64       \n",
      " 10  post_name              714 non-null    object        \n",
      " 11  post_modified          714 non-null    datetime64[ns]\n",
      " 12  post_modified_gmt      714 non-null    datetime64[ns]\n",
      " 13  post_content_filtered  0 non-null      float64       \n",
      " 14  guid                   714 non-null    object        \n",
      " 15  post_type              714 non-null    object        \n",
      "dtypes: datetime64[ns](4), float64(6), object(6)\n",
      "memory usage: 94.8+ KB\n"
     ]
    }
   ],
   "source": [
    "web.info()"
   ]
  },
  {
   "cell_type": "code",
   "execution_count": 25,
   "id": "4cbea059",
   "metadata": {},
   "outputs": [],
   "source": [
    "#web.to_excel(\"web4.xlsx\")"
   ]
  },
  {
   "cell_type": "markdown",
   "id": "d81dc59e",
   "metadata": {},
   "source": [
    "#### La totalité des 715 doublons a bien été supprimée."
   ]
  },
  {
   "cell_type": "markdown",
   "id": "d3f14c7a",
   "metadata": {},
   "source": [
    "### 3.3 - Dataframe LIAISON"
   ]
  },
  {
   "cell_type": "code",
   "execution_count": 26,
   "id": "21fc9659",
   "metadata": {},
   "outputs": [
    {
     "data": {
      "text/plain": [
       "0"
      ]
     },
     "execution_count": 26,
     "metadata": {},
     "output_type": "execute_result"
    }
   ],
   "source": [
    "(liaison[\"product_id\"].duplicated()).sum()"
   ]
  },
  {
   "cell_type": "markdown",
   "id": "eb598abb",
   "metadata": {},
   "source": [
    "#### Il n'y a aucun doublon dans les clés primaire du dataframe LIAISON."
   ]
  },
  {
   "cell_type": "markdown",
   "id": "5559de7e",
   "metadata": {},
   "source": [
    "## <u>4 - Jointures des dataframes</u>"
   ]
  },
  {
   "cell_type": "markdown",
   "id": "f1d290ad",
   "metadata": {},
   "source": [
    "### 4.1 - WEB et LIAISON"
   ]
  },
  {
   "cell_type": "code",
   "execution_count": 27,
   "id": "76fd4dbb",
   "metadata": {},
   "outputs": [
    {
     "name": "stdout",
     "output_type": "stream",
     "text": [
      "(825, 18)\n"
     ]
    }
   ],
   "source": [
    "web = pd.merge(liaison, web, on = \"id_web\", how = \"outer\", indicator=True)\n",
    "print(web.shape)"
   ]
  },
  {
   "cell_type": "code",
   "execution_count": 28,
   "id": "4ab2b430",
   "metadata": {},
   "outputs": [
    {
     "data": {
      "text/html": [
       "<div>\n",
       "<style scoped>\n",
       "    .dataframe tbody tr th:only-of-type {\n",
       "        vertical-align: middle;\n",
       "    }\n",
       "\n",
       "    .dataframe tbody tr th {\n",
       "        vertical-align: top;\n",
       "    }\n",
       "\n",
       "    .dataframe thead th {\n",
       "        text-align: right;\n",
       "    }\n",
       "</style>\n",
       "<table border=\"1\" class=\"dataframe\">\n",
       "  <thead>\n",
       "    <tr style=\"text-align: right;\">\n",
       "      <th></th>\n",
       "      <th>product_id</th>\n",
       "      <th>id_web</th>\n",
       "      <th>total_sales</th>\n",
       "      <th>tax_class</th>\n",
       "      <th>post_author</th>\n",
       "      <th>post_date</th>\n",
       "      <th>post_date_gmt</th>\n",
       "      <th>post_content</th>\n",
       "      <th>post_title</th>\n",
       "      <th>post_excerpt</th>\n",
       "      <th>post_password</th>\n",
       "      <th>post_name</th>\n",
       "      <th>post_modified</th>\n",
       "      <th>post_modified_gmt</th>\n",
       "      <th>post_content_filtered</th>\n",
       "      <th>guid</th>\n",
       "      <th>post_type</th>\n",
       "      <th>_merge</th>\n",
       "    </tr>\n",
       "  </thead>\n",
       "  <tbody>\n",
       "    <tr>\n",
       "      <th>0</th>\n",
       "      <td>3847</td>\n",
       "      <td>15298</td>\n",
       "      <td>6.0</td>\n",
       "      <td>NaN</td>\n",
       "      <td>2.0</td>\n",
       "      <td>2018-02-08 12:58:52</td>\n",
       "      <td>2018-02-08 11:58:52</td>\n",
       "      <td>NaN</td>\n",
       "      <td>Pierre Jean Villa Saint-Joseph Préface 2018</td>\n",
       "      <td>Il exhale un nez subtil, racé avec du poivre f...</td>\n",
       "      <td>NaN</td>\n",
       "      <td>pierre-jean-villa-saint-joseph-preface-2018</td>\n",
       "      <td>2019-12-30 09:30:29</td>\n",
       "      <td>2019-12-30 08:30:29</td>\n",
       "      <td>NaN</td>\n",
       "      <td>https://www.bottle-neck.fr/?post_type=product&amp;...</td>\n",
       "      <td>product</td>\n",
       "      <td>both</td>\n",
       "    </tr>\n",
       "    <tr>\n",
       "      <th>1</th>\n",
       "      <td>3849</td>\n",
       "      <td>15296</td>\n",
       "      <td>0.0</td>\n",
       "      <td>NaN</td>\n",
       "      <td>2.0</td>\n",
       "      <td>2018-02-08 13:49:41</td>\n",
       "      <td>2018-02-08 12:49:41</td>\n",
       "      <td>NaN</td>\n",
       "      <td>Pierre Jean Villa Saint-Joseph Rouge Tildé 2017</td>\n",
       "      <td>Les vieilles vignes lui apportent une rare pro...</td>\n",
       "      <td>NaN</td>\n",
       "      <td>pierre-jean-villa-saint-joseph-tilde-2017</td>\n",
       "      <td>2019-12-21 09:00:17</td>\n",
       "      <td>2019-12-21 08:00:17</td>\n",
       "      <td>NaN</td>\n",
       "      <td>https://www.bottle-neck.fr/?post_type=product&amp;...</td>\n",
       "      <td>product</td>\n",
       "      <td>both</td>\n",
       "    </tr>\n",
       "    <tr>\n",
       "      <th>2</th>\n",
       "      <td>3850</td>\n",
       "      <td>15300</td>\n",
       "      <td>0.0</td>\n",
       "      <td>NaN</td>\n",
       "      <td>2.0</td>\n",
       "      <td>2018-02-08 14:08:36</td>\n",
       "      <td>2018-02-08 13:08:36</td>\n",
       "      <td>NaN</td>\n",
       "      <td>Pierre Jean Villa Crozes-Hermitage Accroche Co...</td>\n",
       "      <td>Dentelle de fruit de jeunes syrah, aux tanins ...</td>\n",
       "      <td>NaN</td>\n",
       "      <td>pierre-jean-villa-croze-hermitage-accroche-coe...</td>\n",
       "      <td>2020-06-26 18:15:03</td>\n",
       "      <td>2020-06-26 16:15:03</td>\n",
       "      <td>NaN</td>\n",
       "      <td>https://www.bottle-neck.fr/?post_type=product&amp;...</td>\n",
       "      <td>product</td>\n",
       "      <td>both</td>\n",
       "    </tr>\n",
       "    <tr>\n",
       "      <th>3</th>\n",
       "      <td>4032</td>\n",
       "      <td>19814</td>\n",
       "      <td>3.0</td>\n",
       "      <td>NaN</td>\n",
       "      <td>2.0</td>\n",
       "      <td>2018-02-09 14:01:05</td>\n",
       "      <td>2018-02-09 13:01:05</td>\n",
       "      <td>NaN</td>\n",
       "      <td>Pierre Jean Villa IGP Collines Rhodaniennes Ga...</td>\n",
       "      <td>Gamine représente tout le fruité et la gourman...</td>\n",
       "      <td>NaN</td>\n",
       "      <td>pierre-jean-villa-igp-gamine-2018</td>\n",
       "      <td>2020-01-04 16:36:01</td>\n",
       "      <td>2020-01-04 15:36:01</td>\n",
       "      <td>NaN</td>\n",
       "      <td>https://www.bottle-neck.fr/?post_type=product&amp;...</td>\n",
       "      <td>product</td>\n",
       "      <td>both</td>\n",
       "    </tr>\n",
       "    <tr>\n",
       "      <th>4</th>\n",
       "      <td>4039</td>\n",
       "      <td>19815</td>\n",
       "      <td>0.0</td>\n",
       "      <td>NaN</td>\n",
       "      <td>2.0</td>\n",
       "      <td>2018-02-12 09:04:37</td>\n",
       "      <td>2018-02-12 08:04:37</td>\n",
       "      <td>NaN</td>\n",
       "      <td>Pierre Jean Villa Côte Rôtie Carmina 2017</td>\n",
       "      <td>Le côte rôtie Carmina monte en puissance mais ...</td>\n",
       "      <td>NaN</td>\n",
       "      <td>pierre-jean-villa-cote-rotie-carmina-2017</td>\n",
       "      <td>2020-01-04 16:36:10</td>\n",
       "      <td>2020-01-04 15:36:10</td>\n",
       "      <td>NaN</td>\n",
       "      <td>https://www.bottle-neck.fr/?post_type=product&amp;...</td>\n",
       "      <td>product</td>\n",
       "      <td>both</td>\n",
       "    </tr>\n",
       "  </tbody>\n",
       "</table>\n",
       "</div>"
      ],
      "text/plain": [
       "   product_id id_web  total_sales  tax_class  post_author           post_date  \\\n",
       "0        3847  15298          6.0        NaN          2.0 2018-02-08 12:58:52   \n",
       "1        3849  15296          0.0        NaN          2.0 2018-02-08 13:49:41   \n",
       "2        3850  15300          0.0        NaN          2.0 2018-02-08 14:08:36   \n",
       "3        4032  19814          3.0        NaN          2.0 2018-02-09 14:01:05   \n",
       "4        4039  19815          0.0        NaN          2.0 2018-02-12 09:04:37   \n",
       "\n",
       "        post_date_gmt  post_content  \\\n",
       "0 2018-02-08 11:58:52           NaN   \n",
       "1 2018-02-08 12:49:41           NaN   \n",
       "2 2018-02-08 13:08:36           NaN   \n",
       "3 2018-02-09 13:01:05           NaN   \n",
       "4 2018-02-12 08:04:37           NaN   \n",
       "\n",
       "                                          post_title  \\\n",
       "0        Pierre Jean Villa Saint-Joseph Préface 2018   \n",
       "1    Pierre Jean Villa Saint-Joseph Rouge Tildé 2017   \n",
       "2  Pierre Jean Villa Crozes-Hermitage Accroche Co...   \n",
       "3  Pierre Jean Villa IGP Collines Rhodaniennes Ga...   \n",
       "4          Pierre Jean Villa Côte Rôtie Carmina 2017   \n",
       "\n",
       "                                        post_excerpt  post_password  \\\n",
       "0  Il exhale un nez subtil, racé avec du poivre f...            NaN   \n",
       "1  Les vieilles vignes lui apportent une rare pro...            NaN   \n",
       "2  Dentelle de fruit de jeunes syrah, aux tanins ...            NaN   \n",
       "3  Gamine représente tout le fruité et la gourman...            NaN   \n",
       "4  Le côte rôtie Carmina monte en puissance mais ...            NaN   \n",
       "\n",
       "                                           post_name       post_modified  \\\n",
       "0        pierre-jean-villa-saint-joseph-preface-2018 2019-12-30 09:30:29   \n",
       "1          pierre-jean-villa-saint-joseph-tilde-2017 2019-12-21 09:00:17   \n",
       "2  pierre-jean-villa-croze-hermitage-accroche-coe... 2020-06-26 18:15:03   \n",
       "3                  pierre-jean-villa-igp-gamine-2018 2020-01-04 16:36:01   \n",
       "4          pierre-jean-villa-cote-rotie-carmina-2017 2020-01-04 16:36:10   \n",
       "\n",
       "    post_modified_gmt  post_content_filtered  \\\n",
       "0 2019-12-30 08:30:29                    NaN   \n",
       "1 2019-12-21 08:00:17                    NaN   \n",
       "2 2020-06-26 16:15:03                    NaN   \n",
       "3 2020-01-04 15:36:01                    NaN   \n",
       "4 2020-01-04 15:36:10                    NaN   \n",
       "\n",
       "                                                guid post_type _merge  \n",
       "0  https://www.bottle-neck.fr/?post_type=product&...   product   both  \n",
       "1  https://www.bottle-neck.fr/?post_type=product&...   product   both  \n",
       "2  https://www.bottle-neck.fr/?post_type=product&...   product   both  \n",
       "3  https://www.bottle-neck.fr/?post_type=product&...   product   both  \n",
       "4  https://www.bottle-neck.fr/?post_type=product&...   product   both  "
      ]
     },
     "execution_count": 28,
     "metadata": {},
     "output_type": "execute_result"
    }
   ],
   "source": [
    "web.head()"
   ]
  },
  {
   "cell_type": "code",
   "execution_count": 29,
   "id": "8564c5b3",
   "metadata": {},
   "outputs": [
    {
     "name": "stdout",
     "output_type": "stream",
     "text": [
      "both          714\n",
      "left_only     111\n",
      "right_only      0\n",
      "Name: _merge, dtype: int64\n"
     ]
    }
   ],
   "source": [
    "mergin = web[\"_merge\"].value_counts()\n",
    "print(mergin)"
   ]
  },
  {
   "cell_type": "markdown",
   "id": "9b7c2a8d",
   "metadata": {},
   "source": [
    "### 111 lignes ne mergent pas (both). Je vais donc les supprimer"
   ]
  },
  {
   "cell_type": "code",
   "execution_count": 30,
   "id": "df090ba3",
   "metadata": {},
   "outputs": [],
   "source": [
    "web = web[web[\"_merge\"]== \"both\"]"
   ]
  },
  {
   "cell_type": "code",
   "execution_count": 31,
   "id": "aa60fe7a",
   "metadata": {},
   "outputs": [
    {
     "name": "stdout",
     "output_type": "stream",
     "text": [
      "both          714\n",
      "left_only       0\n",
      "right_only      0\n",
      "Name: _merge, dtype: int64\n"
     ]
    }
   ],
   "source": [
    "mergin = web[\"_merge\"].value_counts()\n",
    "print(mergin)"
   ]
  },
  {
   "cell_type": "markdown",
   "id": "e97278d2",
   "metadata": {},
   "source": [
    "### Mon merge ne comporte bien que 714 lignes ayant fusionné (both)"
   ]
  },
  {
   "cell_type": "code",
   "execution_count": 32,
   "id": "557ce39e",
   "metadata": {},
   "outputs": [
    {
     "name": "stdout",
     "output_type": "stream",
     "text": [
      "<class 'pandas.core.frame.DataFrame'>\n",
      "Int64Index: 714 entries, 0 to 824\n",
      "Data columns (total 18 columns):\n",
      " #   Column                 Non-Null Count  Dtype         \n",
      "---  ------                 --------------  -----         \n",
      " 0   product_id             714 non-null    int64         \n",
      " 1   id_web                 714 non-null    object        \n",
      " 2   total_sales            714 non-null    float64       \n",
      " 3   tax_class              0 non-null      float64       \n",
      " 4   post_author            714 non-null    float64       \n",
      " 5   post_date              714 non-null    datetime64[ns]\n",
      " 6   post_date_gmt          714 non-null    datetime64[ns]\n",
      " 7   post_content           0 non-null      float64       \n",
      " 8   post_title             714 non-null    object        \n",
      " 9   post_excerpt           714 non-null    object        \n",
      " 10  post_password          0 non-null      float64       \n",
      " 11  post_name              714 non-null    object        \n",
      " 12  post_modified          714 non-null    datetime64[ns]\n",
      " 13  post_modified_gmt      714 non-null    datetime64[ns]\n",
      " 14  post_content_filtered  0 non-null      float64       \n",
      " 15  guid                   714 non-null    object        \n",
      " 16  post_type              714 non-null    object        \n",
      " 17  _merge                 714 non-null    category      \n",
      "dtypes: category(1), datetime64[ns](4), float64(6), int64(1), object(6)\n",
      "memory usage: 101.2+ KB\n"
     ]
    }
   ],
   "source": [
    "web.info()"
   ]
  },
  {
   "cell_type": "code",
   "execution_count": 33,
   "id": "49f15ac3",
   "metadata": {},
   "outputs": [],
   "source": [
    "#suppression de la colonne \"_merge\"\n",
    "del web[\"_merge\"]"
   ]
  },
  {
   "cell_type": "code",
   "execution_count": 34,
   "id": "862dbf16",
   "metadata": {},
   "outputs": [
    {
     "name": "stdout",
     "output_type": "stream",
     "text": [
      "<class 'pandas.core.frame.DataFrame'>\n",
      "Int64Index: 714 entries, 0 to 824\n",
      "Data columns (total 17 columns):\n",
      " #   Column                 Non-Null Count  Dtype         \n",
      "---  ------                 --------------  -----         \n",
      " 0   product_id             714 non-null    int64         \n",
      " 1   id_web                 714 non-null    object        \n",
      " 2   total_sales            714 non-null    float64       \n",
      " 3   tax_class              0 non-null      float64       \n",
      " 4   post_author            714 non-null    float64       \n",
      " 5   post_date              714 non-null    datetime64[ns]\n",
      " 6   post_date_gmt          714 non-null    datetime64[ns]\n",
      " 7   post_content           0 non-null      float64       \n",
      " 8   post_title             714 non-null    object        \n",
      " 9   post_excerpt           714 non-null    object        \n",
      " 10  post_password          0 non-null      float64       \n",
      " 11  post_name              714 non-null    object        \n",
      " 12  post_modified          714 non-null    datetime64[ns]\n",
      " 13  post_modified_gmt      714 non-null    datetime64[ns]\n",
      " 14  post_content_filtered  0 non-null      float64       \n",
      " 15  guid                   714 non-null    object        \n",
      " 16  post_type              714 non-null    object        \n",
      "dtypes: datetime64[ns](4), float64(6), int64(1), object(6)\n",
      "memory usage: 100.4+ KB\n"
     ]
    }
   ],
   "source": [
    "web.info()"
   ]
  },
  {
   "cell_type": "markdown",
   "id": "8e589c34",
   "metadata": {},
   "source": [
    "### 4.2 - WEB (merged) et ERP"
   ]
  },
  {
   "cell_type": "code",
   "execution_count": 35,
   "id": "88249c6d",
   "metadata": {},
   "outputs": [
    {
     "name": "stdout",
     "output_type": "stream",
     "text": [
      "(825, 22)\n"
     ]
    }
   ],
   "source": [
    "data = pd.merge(erp, web, on = \"product_id\", how = \"outer\", indicator=True)\n",
    "print(data.shape)"
   ]
  },
  {
   "cell_type": "code",
   "execution_count": 36,
   "id": "0d479571",
   "metadata": {},
   "outputs": [
    {
     "data": {
      "text/html": [
       "<div>\n",
       "<style scoped>\n",
       "    .dataframe tbody tr th:only-of-type {\n",
       "        vertical-align: middle;\n",
       "    }\n",
       "\n",
       "    .dataframe tbody tr th {\n",
       "        vertical-align: top;\n",
       "    }\n",
       "\n",
       "    .dataframe thead th {\n",
       "        text-align: right;\n",
       "    }\n",
       "</style>\n",
       "<table border=\"1\" class=\"dataframe\">\n",
       "  <thead>\n",
       "    <tr style=\"text-align: right;\">\n",
       "      <th></th>\n",
       "      <th>product_id</th>\n",
       "      <th>onsale_web</th>\n",
       "      <th>price</th>\n",
       "      <th>stock_quantity</th>\n",
       "      <th>stock_status</th>\n",
       "      <th>id_web</th>\n",
       "      <th>total_sales</th>\n",
       "      <th>tax_class</th>\n",
       "      <th>post_author</th>\n",
       "      <th>post_date</th>\n",
       "      <th>...</th>\n",
       "      <th>post_title</th>\n",
       "      <th>post_excerpt</th>\n",
       "      <th>post_password</th>\n",
       "      <th>post_name</th>\n",
       "      <th>post_modified</th>\n",
       "      <th>post_modified_gmt</th>\n",
       "      <th>post_content_filtered</th>\n",
       "      <th>guid</th>\n",
       "      <th>post_type</th>\n",
       "      <th>_merge</th>\n",
       "    </tr>\n",
       "  </thead>\n",
       "  <tbody>\n",
       "    <tr>\n",
       "      <th>0</th>\n",
       "      <td>3847</td>\n",
       "      <td>1</td>\n",
       "      <td>24.2</td>\n",
       "      <td>0</td>\n",
       "      <td>outofstock</td>\n",
       "      <td>15298</td>\n",
       "      <td>6.0</td>\n",
       "      <td>NaN</td>\n",
       "      <td>2.0</td>\n",
       "      <td>2018-02-08 12:58:52</td>\n",
       "      <td>...</td>\n",
       "      <td>Pierre Jean Villa Saint-Joseph Préface 2018</td>\n",
       "      <td>Il exhale un nez subtil, racé avec du poivre f...</td>\n",
       "      <td>NaN</td>\n",
       "      <td>pierre-jean-villa-saint-joseph-preface-2018</td>\n",
       "      <td>2019-12-30 09:30:29</td>\n",
       "      <td>2019-12-30 08:30:29</td>\n",
       "      <td>NaN</td>\n",
       "      <td>https://www.bottle-neck.fr/?post_type=product&amp;...</td>\n",
       "      <td>product</td>\n",
       "      <td>both</td>\n",
       "    </tr>\n",
       "    <tr>\n",
       "      <th>1</th>\n",
       "      <td>3849</td>\n",
       "      <td>1</td>\n",
       "      <td>34.3</td>\n",
       "      <td>0</td>\n",
       "      <td>outofstock</td>\n",
       "      <td>15296</td>\n",
       "      <td>0.0</td>\n",
       "      <td>NaN</td>\n",
       "      <td>2.0</td>\n",
       "      <td>2018-02-08 13:49:41</td>\n",
       "      <td>...</td>\n",
       "      <td>Pierre Jean Villa Saint-Joseph Rouge Tildé 2017</td>\n",
       "      <td>Les vieilles vignes lui apportent une rare pro...</td>\n",
       "      <td>NaN</td>\n",
       "      <td>pierre-jean-villa-saint-joseph-tilde-2017</td>\n",
       "      <td>2019-12-21 09:00:17</td>\n",
       "      <td>2019-12-21 08:00:17</td>\n",
       "      <td>NaN</td>\n",
       "      <td>https://www.bottle-neck.fr/?post_type=product&amp;...</td>\n",
       "      <td>product</td>\n",
       "      <td>both</td>\n",
       "    </tr>\n",
       "    <tr>\n",
       "      <th>2</th>\n",
       "      <td>3850</td>\n",
       "      <td>1</td>\n",
       "      <td>20.8</td>\n",
       "      <td>0</td>\n",
       "      <td>outofstock</td>\n",
       "      <td>15300</td>\n",
       "      <td>0.0</td>\n",
       "      <td>NaN</td>\n",
       "      <td>2.0</td>\n",
       "      <td>2018-02-08 14:08:36</td>\n",
       "      <td>...</td>\n",
       "      <td>Pierre Jean Villa Crozes-Hermitage Accroche Co...</td>\n",
       "      <td>Dentelle de fruit de jeunes syrah, aux tanins ...</td>\n",
       "      <td>NaN</td>\n",
       "      <td>pierre-jean-villa-croze-hermitage-accroche-coe...</td>\n",
       "      <td>2020-06-26 18:15:03</td>\n",
       "      <td>2020-06-26 16:15:03</td>\n",
       "      <td>NaN</td>\n",
       "      <td>https://www.bottle-neck.fr/?post_type=product&amp;...</td>\n",
       "      <td>product</td>\n",
       "      <td>both</td>\n",
       "    </tr>\n",
       "    <tr>\n",
       "      <th>3</th>\n",
       "      <td>4032</td>\n",
       "      <td>1</td>\n",
       "      <td>14.1</td>\n",
       "      <td>0</td>\n",
       "      <td>outofstock</td>\n",
       "      <td>19814</td>\n",
       "      <td>3.0</td>\n",
       "      <td>NaN</td>\n",
       "      <td>2.0</td>\n",
       "      <td>2018-02-09 14:01:05</td>\n",
       "      <td>...</td>\n",
       "      <td>Pierre Jean Villa IGP Collines Rhodaniennes Ga...</td>\n",
       "      <td>Gamine représente tout le fruité et la gourman...</td>\n",
       "      <td>NaN</td>\n",
       "      <td>pierre-jean-villa-igp-gamine-2018</td>\n",
       "      <td>2020-01-04 16:36:01</td>\n",
       "      <td>2020-01-04 15:36:01</td>\n",
       "      <td>NaN</td>\n",
       "      <td>https://www.bottle-neck.fr/?post_type=product&amp;...</td>\n",
       "      <td>product</td>\n",
       "      <td>both</td>\n",
       "    </tr>\n",
       "    <tr>\n",
       "      <th>4</th>\n",
       "      <td>4039</td>\n",
       "      <td>1</td>\n",
       "      <td>46.0</td>\n",
       "      <td>0</td>\n",
       "      <td>outofstock</td>\n",
       "      <td>19815</td>\n",
       "      <td>0.0</td>\n",
       "      <td>NaN</td>\n",
       "      <td>2.0</td>\n",
       "      <td>2018-02-12 09:04:37</td>\n",
       "      <td>...</td>\n",
       "      <td>Pierre Jean Villa Côte Rôtie Carmina 2017</td>\n",
       "      <td>Le côte rôtie Carmina monte en puissance mais ...</td>\n",
       "      <td>NaN</td>\n",
       "      <td>pierre-jean-villa-cote-rotie-carmina-2017</td>\n",
       "      <td>2020-01-04 16:36:10</td>\n",
       "      <td>2020-01-04 15:36:10</td>\n",
       "      <td>NaN</td>\n",
       "      <td>https://www.bottle-neck.fr/?post_type=product&amp;...</td>\n",
       "      <td>product</td>\n",
       "      <td>both</td>\n",
       "    </tr>\n",
       "  </tbody>\n",
       "</table>\n",
       "<p>5 rows × 22 columns</p>\n",
       "</div>"
      ],
      "text/plain": [
       "   product_id  onsale_web  price  stock_quantity stock_status id_web  \\\n",
       "0        3847           1   24.2               0   outofstock  15298   \n",
       "1        3849           1   34.3               0   outofstock  15296   \n",
       "2        3850           1   20.8               0   outofstock  15300   \n",
       "3        4032           1   14.1               0   outofstock  19814   \n",
       "4        4039           1   46.0               0   outofstock  19815   \n",
       "\n",
       "   total_sales  tax_class  post_author           post_date  ...  \\\n",
       "0          6.0        NaN          2.0 2018-02-08 12:58:52  ...   \n",
       "1          0.0        NaN          2.0 2018-02-08 13:49:41  ...   \n",
       "2          0.0        NaN          2.0 2018-02-08 14:08:36  ...   \n",
       "3          3.0        NaN          2.0 2018-02-09 14:01:05  ...   \n",
       "4          0.0        NaN          2.0 2018-02-12 09:04:37  ...   \n",
       "\n",
       "                                          post_title  \\\n",
       "0        Pierre Jean Villa Saint-Joseph Préface 2018   \n",
       "1    Pierre Jean Villa Saint-Joseph Rouge Tildé 2017   \n",
       "2  Pierre Jean Villa Crozes-Hermitage Accroche Co...   \n",
       "3  Pierre Jean Villa IGP Collines Rhodaniennes Ga...   \n",
       "4          Pierre Jean Villa Côte Rôtie Carmina 2017   \n",
       "\n",
       "                                        post_excerpt post_password  \\\n",
       "0  Il exhale un nez subtil, racé avec du poivre f...           NaN   \n",
       "1  Les vieilles vignes lui apportent une rare pro...           NaN   \n",
       "2  Dentelle de fruit de jeunes syrah, aux tanins ...           NaN   \n",
       "3  Gamine représente tout le fruité et la gourman...           NaN   \n",
       "4  Le côte rôtie Carmina monte en puissance mais ...           NaN   \n",
       "\n",
       "                                           post_name       post_modified  \\\n",
       "0        pierre-jean-villa-saint-joseph-preface-2018 2019-12-30 09:30:29   \n",
       "1          pierre-jean-villa-saint-joseph-tilde-2017 2019-12-21 09:00:17   \n",
       "2  pierre-jean-villa-croze-hermitage-accroche-coe... 2020-06-26 18:15:03   \n",
       "3                  pierre-jean-villa-igp-gamine-2018 2020-01-04 16:36:01   \n",
       "4          pierre-jean-villa-cote-rotie-carmina-2017 2020-01-04 16:36:10   \n",
       "\n",
       "    post_modified_gmt post_content_filtered  \\\n",
       "0 2019-12-30 08:30:29                   NaN   \n",
       "1 2019-12-21 08:00:17                   NaN   \n",
       "2 2020-06-26 16:15:03                   NaN   \n",
       "3 2020-01-04 15:36:01                   NaN   \n",
       "4 2020-01-04 15:36:10                   NaN   \n",
       "\n",
       "                                                guid  post_type _merge  \n",
       "0  https://www.bottle-neck.fr/?post_type=product&...    product   both  \n",
       "1  https://www.bottle-neck.fr/?post_type=product&...    product   both  \n",
       "2  https://www.bottle-neck.fr/?post_type=product&...    product   both  \n",
       "3  https://www.bottle-neck.fr/?post_type=product&...    product   both  \n",
       "4  https://www.bottle-neck.fr/?post_type=product&...    product   both  \n",
       "\n",
       "[5 rows x 22 columns]"
      ]
     },
     "execution_count": 36,
     "metadata": {},
     "output_type": "execute_result"
    }
   ],
   "source": [
    "data.head()"
   ]
  },
  {
   "cell_type": "code",
   "execution_count": 37,
   "id": "d384f63d",
   "metadata": {},
   "outputs": [
    {
     "name": "stdout",
     "output_type": "stream",
     "text": [
      "both          714\n",
      "left_only     111\n",
      "right_only      0\n",
      "Name: _merge, dtype: int64\n"
     ]
    }
   ],
   "source": [
    "mergin_data = data[\"_merge\"].value_counts()\n",
    "print(mergin_data)"
   ]
  },
  {
   "cell_type": "markdown",
   "id": "e87bcab3",
   "metadata": {},
   "source": [
    "### 111 lignes ne mergent pas (both). Je vais donc les supprimer"
   ]
  },
  {
   "cell_type": "code",
   "execution_count": 38,
   "id": "c33f6915",
   "metadata": {},
   "outputs": [],
   "source": [
    "data = data[data[\"_merge\"]== \"both\"]"
   ]
  },
  {
   "cell_type": "code",
   "execution_count": 39,
   "id": "b5995a54",
   "metadata": {},
   "outputs": [
    {
     "name": "stdout",
     "output_type": "stream",
     "text": [
      "both          714\n",
      "left_only       0\n",
      "right_only      0\n",
      "Name: _merge, dtype: int64\n"
     ]
    }
   ],
   "source": [
    "mergin_data = data[\"_merge\"].value_counts()\n",
    "print(mergin_data)"
   ]
  },
  {
   "cell_type": "markdown",
   "id": "f7da9b4b",
   "metadata": {},
   "source": [
    "### Mon merge ne comporte bien que 714 lignes ayant fusionné (both)"
   ]
  },
  {
   "cell_type": "code",
   "execution_count": 40,
   "id": "62a0754b",
   "metadata": {},
   "outputs": [
    {
     "name": "stdout",
     "output_type": "stream",
     "text": [
      "<class 'pandas.core.frame.DataFrame'>\n",
      "Int64Index: 714 entries, 0 to 824\n",
      "Data columns (total 22 columns):\n",
      " #   Column                 Non-Null Count  Dtype         \n",
      "---  ------                 --------------  -----         \n",
      " 0   product_id             714 non-null    int64         \n",
      " 1   onsale_web             714 non-null    int64         \n",
      " 2   price                  714 non-null    float64       \n",
      " 3   stock_quantity         714 non-null    int64         \n",
      " 4   stock_status           714 non-null    object        \n",
      " 5   id_web                 714 non-null    object        \n",
      " 6   total_sales            714 non-null    float64       \n",
      " 7   tax_class              0 non-null      float64       \n",
      " 8   post_author            714 non-null    float64       \n",
      " 9   post_date              714 non-null    datetime64[ns]\n",
      " 10  post_date_gmt          714 non-null    datetime64[ns]\n",
      " 11  post_content           0 non-null      float64       \n",
      " 12  post_title             714 non-null    object        \n",
      " 13  post_excerpt           714 non-null    object        \n",
      " 14  post_password          0 non-null      float64       \n",
      " 15  post_name              714 non-null    object        \n",
      " 16  post_modified          714 non-null    datetime64[ns]\n",
      " 17  post_modified_gmt      714 non-null    datetime64[ns]\n",
      " 18  post_content_filtered  0 non-null      float64       \n",
      " 19  guid                   714 non-null    object        \n",
      " 20  post_type              714 non-null    object        \n",
      " 21  _merge                 714 non-null    category      \n",
      "dtypes: category(1), datetime64[ns](4), float64(7), int64(3), object(7)\n",
      "memory usage: 123.5+ KB\n"
     ]
    }
   ],
   "source": [
    "data.info()"
   ]
  },
  {
   "cell_type": "code",
   "execution_count": 41,
   "id": "4c93c14f",
   "metadata": {},
   "outputs": [],
   "source": [
    "#suppression de la colonne \"_merge\"\n",
    "del data[\"_merge\"]"
   ]
  },
  {
   "cell_type": "code",
   "execution_count": 42,
   "id": "acff958d",
   "metadata": {},
   "outputs": [
    {
     "name": "stdout",
     "output_type": "stream",
     "text": [
      "<class 'pandas.core.frame.DataFrame'>\n",
      "Int64Index: 714 entries, 0 to 824\n",
      "Data columns (total 21 columns):\n",
      " #   Column                 Non-Null Count  Dtype         \n",
      "---  ------                 --------------  -----         \n",
      " 0   product_id             714 non-null    int64         \n",
      " 1   onsale_web             714 non-null    int64         \n",
      " 2   price                  714 non-null    float64       \n",
      " 3   stock_quantity         714 non-null    int64         \n",
      " 4   stock_status           714 non-null    object        \n",
      " 5   id_web                 714 non-null    object        \n",
      " 6   total_sales            714 non-null    float64       \n",
      " 7   tax_class              0 non-null      float64       \n",
      " 8   post_author            714 non-null    float64       \n",
      " 9   post_date              714 non-null    datetime64[ns]\n",
      " 10  post_date_gmt          714 non-null    datetime64[ns]\n",
      " 11  post_content           0 non-null      float64       \n",
      " 12  post_title             714 non-null    object        \n",
      " 13  post_excerpt           714 non-null    object        \n",
      " 14  post_password          0 non-null      float64       \n",
      " 15  post_name              714 non-null    object        \n",
      " 16  post_modified          714 non-null    datetime64[ns]\n",
      " 17  post_modified_gmt      714 non-null    datetime64[ns]\n",
      " 18  post_content_filtered  0 non-null      float64       \n",
      " 19  guid                   714 non-null    object        \n",
      " 20  post_type              714 non-null    object        \n",
      "dtypes: datetime64[ns](4), float64(7), int64(3), object(7)\n",
      "memory usage: 122.7+ KB\n"
     ]
    }
   ],
   "source": [
    "data.info()"
   ]
  },
  {
   "cell_type": "markdown",
   "id": "ed13980e",
   "metadata": {},
   "source": [
    "## <u>5 - Nettoyage des données</u>"
   ]
  },
  {
   "cell_type": "code",
   "execution_count": 43,
   "id": "6f6433d4",
   "metadata": {
    "scrolled": false
   },
   "outputs": [
    {
     "name": "stdout",
     "output_type": "stream",
     "text": [
      "<class 'pandas.core.frame.DataFrame'>\n",
      "Int64Index: 714 entries, 0 to 824\n",
      "Data columns (total 21 columns):\n",
      " #   Column                 Non-Null Count  Dtype         \n",
      "---  ------                 --------------  -----         \n",
      " 0   product_id             714 non-null    int64         \n",
      " 1   onsale_web             714 non-null    int64         \n",
      " 2   price                  714 non-null    float64       \n",
      " 3   stock_quantity         714 non-null    int64         \n",
      " 4   stock_status           714 non-null    object        \n",
      " 5   id_web                 714 non-null    object        \n",
      " 6   total_sales            714 non-null    float64       \n",
      " 7   tax_class              0 non-null      float64       \n",
      " 8   post_author            714 non-null    float64       \n",
      " 9   post_date              714 non-null    datetime64[ns]\n",
      " 10  post_date_gmt          714 non-null    datetime64[ns]\n",
      " 11  post_content           0 non-null      float64       \n",
      " 12  post_title             714 non-null    object        \n",
      " 13  post_excerpt           714 non-null    object        \n",
      " 14  post_password          0 non-null      float64       \n",
      " 15  post_name              714 non-null    object        \n",
      " 16  post_modified          714 non-null    datetime64[ns]\n",
      " 17  post_modified_gmt      714 non-null    datetime64[ns]\n",
      " 18  post_content_filtered  0 non-null      float64       \n",
      " 19  guid                   714 non-null    object        \n",
      " 20  post_type              714 non-null    object        \n",
      "dtypes: datetime64[ns](4), float64(7), int64(3), object(7)\n",
      "memory usage: 122.7+ KB\n"
     ]
    }
   ],
   "source": [
    "data.info()"
   ]
  },
  {
   "cell_type": "markdown",
   "id": "9eb63c28",
   "metadata": {},
   "source": [
    "### 5.1 - Vérification des cohérences de données entre les colonnes d'état et de quantité des stocks"
   ]
  },
  {
   "cell_type": "code",
   "execution_count": 44,
   "id": "98c289cd",
   "metadata": {
    "scrolled": true
   },
   "outputs": [
    {
     "data": {
      "text/html": [
       "<div>\n",
       "<style scoped>\n",
       "    .dataframe tbody tr th:only-of-type {\n",
       "        vertical-align: middle;\n",
       "    }\n",
       "\n",
       "    .dataframe tbody tr th {\n",
       "        vertical-align: top;\n",
       "    }\n",
       "\n",
       "    .dataframe thead th {\n",
       "        text-align: right;\n",
       "    }\n",
       "</style>\n",
       "<table border=\"1\" class=\"dataframe\">\n",
       "  <thead>\n",
       "    <tr style=\"text-align: right;\">\n",
       "      <th></th>\n",
       "      <th>product_id</th>\n",
       "      <th>onsale_web</th>\n",
       "      <th>price</th>\n",
       "      <th>stock_quantity</th>\n",
       "      <th>stock_status</th>\n",
       "      <th>id_web</th>\n",
       "      <th>total_sales</th>\n",
       "      <th>tax_class</th>\n",
       "      <th>post_author</th>\n",
       "      <th>post_date</th>\n",
       "      <th>...</th>\n",
       "      <th>post_content</th>\n",
       "      <th>post_title</th>\n",
       "      <th>post_excerpt</th>\n",
       "      <th>post_password</th>\n",
       "      <th>post_name</th>\n",
       "      <th>post_modified</th>\n",
       "      <th>post_modified_gmt</th>\n",
       "      <th>post_content_filtered</th>\n",
       "      <th>guid</th>\n",
       "      <th>post_type</th>\n",
       "    </tr>\n",
       "  </thead>\n",
       "  <tbody>\n",
       "    <tr>\n",
       "      <th>443</th>\n",
       "      <td>4954</td>\n",
       "      <td>1</td>\n",
       "      <td>25.00</td>\n",
       "      <td>0</td>\n",
       "      <td>instock</td>\n",
       "      <td>bon-cadeau-25-euros</td>\n",
       "      <td>10.0</td>\n",
       "      <td>NaN</td>\n",
       "      <td>1.0</td>\n",
       "      <td>2018-06-01 13:53:46</td>\n",
       "      <td>...</td>\n",
       "      <td>NaN</td>\n",
       "      <td>Bon cadeau de 25€</td>\n",
       "      <td>&lt;span style=\"color: #a85253;\"&gt;&lt;strong&gt;Parlons ...</td>\n",
       "      <td>NaN</td>\n",
       "      <td>bon-cadeau-de-25-euros</td>\n",
       "      <td>2018-06-01 14:13:57</td>\n",
       "      <td>2018-06-01 12:13:57</td>\n",
       "      <td>NaN</td>\n",
       "      <td>https://www.bottle-neck.fr/?post_type=product&amp;...</td>\n",
       "      <td>product</td>\n",
       "    </tr>\n",
       "    <tr>\n",
       "      <th>72</th>\n",
       "      <td>4141</td>\n",
       "      <td>1</td>\n",
       "      <td>39.00</td>\n",
       "      <td>1</td>\n",
       "      <td>instock</td>\n",
       "      <td>304</td>\n",
       "      <td>40.0</td>\n",
       "      <td>NaN</td>\n",
       "      <td>2.0</td>\n",
       "      <td>2018-02-13 12:57:44</td>\n",
       "      <td>...</td>\n",
       "      <td>NaN</td>\n",
       "      <td>Champagne Gosset Grande Réserve</td>\n",
       "      <td>Le nez, ouvert et expressif, évoque les fruits...</td>\n",
       "      <td>NaN</td>\n",
       "      <td>gosset-champagne-grande-reserve</td>\n",
       "      <td>2020-08-27 11:25:02</td>\n",
       "      <td>2020-08-27 09:25:02</td>\n",
       "      <td>NaN</td>\n",
       "      <td>https://www.bottle-neck.fr/?post_type=product&amp;...</td>\n",
       "      <td>product</td>\n",
       "    </tr>\n",
       "    <tr>\n",
       "      <th>85</th>\n",
       "      <td>4156</td>\n",
       "      <td>1</td>\n",
       "      <td>20.35</td>\n",
       "      <td>1</td>\n",
       "      <td>instock</td>\n",
       "      <td>14941</td>\n",
       "      <td>6.0</td>\n",
       "      <td>NaN</td>\n",
       "      <td>2.0</td>\n",
       "      <td>2018-02-13 14:34:40</td>\n",
       "      <td>...</td>\n",
       "      <td>NaN</td>\n",
       "      <td>Elian Daros Côtes du Marmandais Coucou Blanc 2016</td>\n",
       "      <td>Blanc atypique pour la région, certainement un...</td>\n",
       "      <td>NaN</td>\n",
       "      <td>elian-daros-cotes-du-marmandais-coucou-blanc-2016</td>\n",
       "      <td>2020-07-15 17:55:03</td>\n",
       "      <td>2020-07-15 15:55:03</td>\n",
       "      <td>NaN</td>\n",
       "      <td>https://www.bottle-neck.fr/?post_type=product&amp;...</td>\n",
       "      <td>product</td>\n",
       "    </tr>\n",
       "    <tr>\n",
       "      <th>154</th>\n",
       "      <td>4240</td>\n",
       "      <td>1</td>\n",
       "      <td>28.00</td>\n",
       "      <td>1</td>\n",
       "      <td>instock</td>\n",
       "      <td>15436</td>\n",
       "      <td>0.0</td>\n",
       "      <td>NaN</td>\n",
       "      <td>2.0</td>\n",
       "      <td>2018-02-20 09:49:21</td>\n",
       "      <td>...</td>\n",
       "      <td>NaN</td>\n",
       "      <td>Domaine Augustin Collioure Rouge Adéodat 2017</td>\n",
       "      <td>&lt;div class=\"m-product_description\"&gt;&lt;/div&gt;\\n&lt;di...</td>\n",
       "      <td>NaN</td>\n",
       "      <td>domaine-augustin-collioure-rouge-adeodat-2017</td>\n",
       "      <td>2020-08-26 09:30:09</td>\n",
       "      <td>2020-08-26 07:30:09</td>\n",
       "      <td>NaN</td>\n",
       "      <td>https://www.bottle-neck.fr/?post_type=product&amp;...</td>\n",
       "      <td>product</td>\n",
       "    </tr>\n",
       "    <tr>\n",
       "      <th>176</th>\n",
       "      <td>4269</td>\n",
       "      <td>1</td>\n",
       "      <td>10.20</td>\n",
       "      <td>1</td>\n",
       "      <td>instock</td>\n",
       "      <td>16244</td>\n",
       "      <td>0.0</td>\n",
       "      <td>NaN</td>\n",
       "      <td>2.0</td>\n",
       "      <td>2018-02-27 13:09:12</td>\n",
       "      <td>...</td>\n",
       "      <td>NaN</td>\n",
       "      <td>Domaine Sérol Côte Roannaise Les Originelles 2019</td>\n",
       "      <td>Rouge grenat intense aux reflets violacés. Arô...</td>\n",
       "      <td>NaN</td>\n",
       "      <td>serol-cote-roannaise-originelles-2019</td>\n",
       "      <td>2020-07-08 15:55:04</td>\n",
       "      <td>2020-07-08 13:55:04</td>\n",
       "      <td>NaN</td>\n",
       "      <td>https://www.bottle-neck.fr/?post_type=product&amp;...</td>\n",
       "      <td>product</td>\n",
       "    </tr>\n",
       "    <tr>\n",
       "      <th>...</th>\n",
       "      <td>...</td>\n",
       "      <td>...</td>\n",
       "      <td>...</td>\n",
       "      <td>...</td>\n",
       "      <td>...</td>\n",
       "      <td>...</td>\n",
       "      <td>...</td>\n",
       "      <td>...</td>\n",
       "      <td>...</td>\n",
       "      <td>...</td>\n",
       "      <td>...</td>\n",
       "      <td>...</td>\n",
       "      <td>...</td>\n",
       "      <td>...</td>\n",
       "      <td>...</td>\n",
       "      <td>...</td>\n",
       "      <td>...</td>\n",
       "      <td>...</td>\n",
       "      <td>...</td>\n",
       "      <td>...</td>\n",
       "      <td>...</td>\n",
       "    </tr>\n",
       "    <tr>\n",
       "      <th>731</th>\n",
       "      <td>6570</td>\n",
       "      <td>1</td>\n",
       "      <td>29.20</td>\n",
       "      <td>0</td>\n",
       "      <td>outofstock</td>\n",
       "      <td>15706</td>\n",
       "      <td>0.0</td>\n",
       "      <td>NaN</td>\n",
       "      <td>2.0</td>\n",
       "      <td>2020-01-03 16:42:53</td>\n",
       "      <td>...</td>\n",
       "      <td>NaN</td>\n",
       "      <td>Decelle-Villa Marsannay Les Longeroies 2015</td>\n",
       "      <td>C’est le village le plus au nord de la Côte de...</td>\n",
       "      <td>NaN</td>\n",
       "      <td>decelle-villa-marsannay-longeroies-2015</td>\n",
       "      <td>2020-03-04 13:40:13</td>\n",
       "      <td>2020-03-04 12:40:13</td>\n",
       "      <td>NaN</td>\n",
       "      <td>https://www.bottle-neck.fr/?post_type=product&amp;...</td>\n",
       "      <td>product</td>\n",
       "    </tr>\n",
       "    <tr>\n",
       "      <th>732</th>\n",
       "      <td>6572</td>\n",
       "      <td>1</td>\n",
       "      <td>44.00</td>\n",
       "      <td>0</td>\n",
       "      <td>outofstock</td>\n",
       "      <td>15704</td>\n",
       "      <td>0.0</td>\n",
       "      <td>NaN</td>\n",
       "      <td>2.0</td>\n",
       "      <td>2020-01-03 16:46:47</td>\n",
       "      <td>...</td>\n",
       "      <td>NaN</td>\n",
       "      <td>Decelle-Villa Saint-Aubin 1er Cru Sous Roche D...</td>\n",
       "      <td>Commentaires à venir.</td>\n",
       "      <td>NaN</td>\n",
       "      <td>decelle-villa-saint-aubin-dumay-2015</td>\n",
       "      <td>2020-02-08 09:00:14</td>\n",
       "      <td>2020-02-08 08:00:14</td>\n",
       "      <td>NaN</td>\n",
       "      <td>https://www.bottle-neck.fr/?post_type=product&amp;...</td>\n",
       "      <td>product</td>\n",
       "    </tr>\n",
       "    <tr>\n",
       "      <th>735</th>\n",
       "      <td>6578</td>\n",
       "      <td>1</td>\n",
       "      <td>40.00</td>\n",
       "      <td>0</td>\n",
       "      <td>outofstock</td>\n",
       "      <td>15647</td>\n",
       "      <td>7.0</td>\n",
       "      <td>NaN</td>\n",
       "      <td>2.0</td>\n",
       "      <td>2020-01-04 10:02:37</td>\n",
       "      <td>...</td>\n",
       "      <td>NaN</td>\n",
       "      <td>Saumaize-Michelin Pouilly-Fuissé Ampélopsis 2016</td>\n",
       "      <td>&lt;div id=\"wrapper\"&gt;\\n&lt;div id=\"container-wrapper...</td>\n",
       "      <td>NaN</td>\n",
       "      <td>saumaize-michelin-pouilly-fuisse-ampelopsis-2016</td>\n",
       "      <td>2020-05-24 09:17:20</td>\n",
       "      <td>2020-05-24 07:17:20</td>\n",
       "      <td>NaN</td>\n",
       "      <td>https://www.bottle-neck.fr/?post_type=product&amp;...</td>\n",
       "      <td>product</td>\n",
       "    </tr>\n",
       "    <tr>\n",
       "      <th>759</th>\n",
       "      <td>6751</td>\n",
       "      <td>1</td>\n",
       "      <td>46.50</td>\n",
       "      <td>0</td>\n",
       "      <td>outofstock</td>\n",
       "      <td>16144</td>\n",
       "      <td>0.0</td>\n",
       "      <td>NaN</td>\n",
       "      <td>2.0</td>\n",
       "      <td>2020-03-10 14:03:32</td>\n",
       "      <td>...</td>\n",
       "      <td>NaN</td>\n",
       "      <td>Château Simone Palette Blanc 2017</td>\n",
       "      <td>Les vins blancs sont d’une suprême élégance. D...</td>\n",
       "      <td>NaN</td>\n",
       "      <td>chateau-simone-blanc-2017</td>\n",
       "      <td>2020-08-27 09:30:14</td>\n",
       "      <td>2020-08-27 07:30:14</td>\n",
       "      <td>NaN</td>\n",
       "      <td>https://www.bottle-neck.fr/?post_type=product&amp;...</td>\n",
       "      <td>product</td>\n",
       "    </tr>\n",
       "    <tr>\n",
       "      <th>770</th>\n",
       "      <td>6886</td>\n",
       "      <td>1</td>\n",
       "      <td>42.00</td>\n",
       "      <td>0</td>\n",
       "      <td>outofstock</td>\n",
       "      <td>14897</td>\n",
       "      <td>0.0</td>\n",
       "      <td>NaN</td>\n",
       "      <td>2.0</td>\n",
       "      <td>2020-04-24 21:18:32</td>\n",
       "      <td>...</td>\n",
       "      <td>NaN</td>\n",
       "      <td>Gratavinum Priorat GV5 2011</td>\n",
       "      <td>Couleur grenat très foncé, avec des reflets. U...</td>\n",
       "      <td>NaN</td>\n",
       "      <td>gratavinum-priorat-gv5-2011</td>\n",
       "      <td>2020-06-26 15:05:03</td>\n",
       "      <td>2020-06-26 13:05:03</td>\n",
       "      <td>NaN</td>\n",
       "      <td>https://www.bottle-neck.fr/?post_type=product&amp;...</td>\n",
       "      <td>product</td>\n",
       "    </tr>\n",
       "  </tbody>\n",
       "</table>\n",
       "<p>714 rows × 21 columns</p>\n",
       "</div>"
      ],
      "text/plain": [
       "     product_id  onsale_web  price  stock_quantity stock_status  \\\n",
       "443        4954           1  25.00               0      instock   \n",
       "72         4141           1  39.00               1      instock   \n",
       "85         4156           1  20.35               1      instock   \n",
       "154        4240           1  28.00               1      instock   \n",
       "176        4269           1  10.20               1      instock   \n",
       "..          ...         ...    ...             ...          ...   \n",
       "731        6570           1  29.20               0   outofstock   \n",
       "732        6572           1  44.00               0   outofstock   \n",
       "735        6578           1  40.00               0   outofstock   \n",
       "759        6751           1  46.50               0   outofstock   \n",
       "770        6886           1  42.00               0   outofstock   \n",
       "\n",
       "                  id_web  total_sales  tax_class  post_author  \\\n",
       "443  bon-cadeau-25-euros         10.0        NaN          1.0   \n",
       "72                   304         40.0        NaN          2.0   \n",
       "85                 14941          6.0        NaN          2.0   \n",
       "154                15436          0.0        NaN          2.0   \n",
       "176                16244          0.0        NaN          2.0   \n",
       "..                   ...          ...        ...          ...   \n",
       "731                15706          0.0        NaN          2.0   \n",
       "732                15704          0.0        NaN          2.0   \n",
       "735                15647          7.0        NaN          2.0   \n",
       "759                16144          0.0        NaN          2.0   \n",
       "770                14897          0.0        NaN          2.0   \n",
       "\n",
       "              post_date  ... post_content  \\\n",
       "443 2018-06-01 13:53:46  ...          NaN   \n",
       "72  2018-02-13 12:57:44  ...          NaN   \n",
       "85  2018-02-13 14:34:40  ...          NaN   \n",
       "154 2018-02-20 09:49:21  ...          NaN   \n",
       "176 2018-02-27 13:09:12  ...          NaN   \n",
       "..                  ...  ...          ...   \n",
       "731 2020-01-03 16:42:53  ...          NaN   \n",
       "732 2020-01-03 16:46:47  ...          NaN   \n",
       "735 2020-01-04 10:02:37  ...          NaN   \n",
       "759 2020-03-10 14:03:32  ...          NaN   \n",
       "770 2020-04-24 21:18:32  ...          NaN   \n",
       "\n",
       "                                            post_title  \\\n",
       "443                                  Bon cadeau de 25€   \n",
       "72                     Champagne Gosset Grande Réserve   \n",
       "85   Elian Daros Côtes du Marmandais Coucou Blanc 2016   \n",
       "154      Domaine Augustin Collioure Rouge Adéodat 2017   \n",
       "176  Domaine Sérol Côte Roannaise Les Originelles 2019   \n",
       "..                                                 ...   \n",
       "731        Decelle-Villa Marsannay Les Longeroies 2015   \n",
       "732  Decelle-Villa Saint-Aubin 1er Cru Sous Roche D...   \n",
       "735   Saumaize-Michelin Pouilly-Fuissé Ampélopsis 2016   \n",
       "759                  Château Simone Palette Blanc 2017   \n",
       "770                        Gratavinum Priorat GV5 2011   \n",
       "\n",
       "                                          post_excerpt post_password  \\\n",
       "443  <span style=\"color: #a85253;\"><strong>Parlons ...           NaN   \n",
       "72   Le nez, ouvert et expressif, évoque les fruits...           NaN   \n",
       "85   Blanc atypique pour la région, certainement un...           NaN   \n",
       "154  <div class=\"m-product_description\"></div>\\n<di...           NaN   \n",
       "176  Rouge grenat intense aux reflets violacés. Arô...           NaN   \n",
       "..                                                 ...           ...   \n",
       "731  C’est le village le plus au nord de la Côte de...           NaN   \n",
       "732                              Commentaires à venir.           NaN   \n",
       "735  <div id=\"wrapper\">\\n<div id=\"container-wrapper...           NaN   \n",
       "759  Les vins blancs sont d’une suprême élégance. D...           NaN   \n",
       "770  Couleur grenat très foncé, avec des reflets. U...           NaN   \n",
       "\n",
       "                                             post_name       post_modified  \\\n",
       "443                             bon-cadeau-de-25-euros 2018-06-01 14:13:57   \n",
       "72                     gosset-champagne-grande-reserve 2020-08-27 11:25:02   \n",
       "85   elian-daros-cotes-du-marmandais-coucou-blanc-2016 2020-07-15 17:55:03   \n",
       "154      domaine-augustin-collioure-rouge-adeodat-2017 2020-08-26 09:30:09   \n",
       "176              serol-cote-roannaise-originelles-2019 2020-07-08 15:55:04   \n",
       "..                                                 ...                 ...   \n",
       "731            decelle-villa-marsannay-longeroies-2015 2020-03-04 13:40:13   \n",
       "732               decelle-villa-saint-aubin-dumay-2015 2020-02-08 09:00:14   \n",
       "735   saumaize-michelin-pouilly-fuisse-ampelopsis-2016 2020-05-24 09:17:20   \n",
       "759                          chateau-simone-blanc-2017 2020-08-27 09:30:14   \n",
       "770                        gratavinum-priorat-gv5-2011 2020-06-26 15:05:03   \n",
       "\n",
       "      post_modified_gmt post_content_filtered  \\\n",
       "443 2018-06-01 12:13:57                   NaN   \n",
       "72  2020-08-27 09:25:02                   NaN   \n",
       "85  2020-07-15 15:55:03                   NaN   \n",
       "154 2020-08-26 07:30:09                   NaN   \n",
       "176 2020-07-08 13:55:04                   NaN   \n",
       "..                  ...                   ...   \n",
       "731 2020-03-04 12:40:13                   NaN   \n",
       "732 2020-02-08 08:00:14                   NaN   \n",
       "735 2020-05-24 07:17:20                   NaN   \n",
       "759 2020-08-27 07:30:14                   NaN   \n",
       "770 2020-06-26 13:05:03                   NaN   \n",
       "\n",
       "                                                  guid post_type  \n",
       "443  https://www.bottle-neck.fr/?post_type=product&...   product  \n",
       "72   https://www.bottle-neck.fr/?post_type=product&...   product  \n",
       "85   https://www.bottle-neck.fr/?post_type=product&...   product  \n",
       "154  https://www.bottle-neck.fr/?post_type=product&...   product  \n",
       "176  https://www.bottle-neck.fr/?post_type=product&...   product  \n",
       "..                                                 ...       ...  \n",
       "731  https://www.bottle-neck.fr/?post_type=product&...   product  \n",
       "732  https://www.bottle-neck.fr/?post_type=product&...   product  \n",
       "735  https://www.bottle-neck.fr/?post_type=product&...   product  \n",
       "759  https://www.bottle-neck.fr/?post_type=product&...   product  \n",
       "770  https://www.bottle-neck.fr/?post_type=product&...   product  \n",
       "\n",
       "[714 rows x 21 columns]"
      ]
     },
     "execution_count": 44,
     "metadata": {},
     "output_type": "execute_result"
    }
   ],
   "source": [
    "data.sort_values([\"stock_status\",\"stock_quantity\"],ascending = [True,True])"
   ]
  },
  {
   "cell_type": "markdown",
   "id": "87878abd",
   "metadata": {},
   "source": [
    "#### Une erreur a été trouvée dans une ligne : la valeur de \"stock_quantity\" est égale à zéro pour le \"product_id\"  4954, alors que son \"stock_status\" est égal à 'instock\" . Celui-ci doit donc avoir une valeur égale à \"outofstock\"."
   ]
  },
  {
   "cell_type": "markdown",
   "id": "ba589d8a",
   "metadata": {},
   "source": [
    "### 5.2 - Passage de la valeur \"stock_status\" de l'id 4954 (index 443) à \"outofstock\""
   ]
  },
  {
   "cell_type": "code",
   "execution_count": 45,
   "id": "688cf93c",
   "metadata": {},
   "outputs": [
    {
     "name": "stdout",
     "output_type": "stream",
     "text": [
      "product_id                                                            4954\n",
      "onsale_web                                                               1\n",
      "price                                                                 25.0\n",
      "stock_quantity                                                           0\n",
      "stock_status                                                       instock\n",
      "id_web                                                 bon-cadeau-25-euros\n",
      "total_sales                                                           10.0\n",
      "tax_class                                                              NaN\n",
      "post_author                                                            1.0\n",
      "post_date                                              2018-06-01 13:53:46\n",
      "post_date_gmt                                          2018-06-01 11:53:46\n",
      "post_content                                                           NaN\n",
      "post_title                                               Bon cadeau de 25€\n",
      "post_excerpt             <span style=\"color: #a85253;\"><strong>Parlons ...\n",
      "post_password                                                          NaN\n",
      "post_name                                           bon-cadeau-de-25-euros\n",
      "post_modified                                          2018-06-01 14:13:57\n",
      "post_modified_gmt                                      2018-06-01 12:13:57\n",
      "post_content_filtered                                                  NaN\n",
      "guid                     https://www.bottle-neck.fr/?post_type=product&...\n",
      "post_type                                                          product\n",
      "Name: 443, dtype: object\n"
     ]
    }
   ],
   "source": [
    "data.iloc[443,4] =\"outofstock\"\n",
    "print(data.loc[443])"
   ]
  },
  {
   "cell_type": "markdown",
   "id": "8b4dcc00",
   "metadata": {},
   "source": [
    "#### La valeur de \"stock_status\" de l'id 4954 a bien été modifiée pour devenir \"outofstock\"."
   ]
  },
  {
   "cell_type": "markdown",
   "id": "d0d93c48",
   "metadata": {},
   "source": [
    "## <u>6 - Calculs</u>"
   ]
  },
  {
   "cell_type": "markdown",
   "id": "0addf047",
   "metadata": {},
   "source": [
    "### <u>6.1 - Chiffre d'affaire par produit</u>"
   ]
  },
  {
   "cell_type": "markdown",
   "id": "9ed21496",
   "metadata": {},
   "source": [
    "### 6.1.2 - Création du dataframe \"chiffre_affaire\" avec utilisation de \"product_id\" comme index"
   ]
  },
  {
   "cell_type": "code",
   "execution_count": 46,
   "id": "ca05772d",
   "metadata": {},
   "outputs": [],
   "source": [
    "chiffre_affaire = data [[\"product_id\",\"id_web\",\"onsale_web\",\"price\",\"total_sales\"]]\n",
    "chiffre_affaire.set_index(\"product_id\", inplace=True)"
   ]
  },
  {
   "cell_type": "code",
   "execution_count": 47,
   "id": "79b6f887",
   "metadata": {},
   "outputs": [
    {
     "name": "stdout",
     "output_type": "stream",
     "text": [
      "<class 'pandas.core.frame.DataFrame'>\n",
      "Int64Index: 714 entries, 3847 to 7338\n",
      "Data columns (total 4 columns):\n",
      " #   Column       Non-Null Count  Dtype  \n",
      "---  ------       --------------  -----  \n",
      " 0   id_web       714 non-null    object \n",
      " 1   onsale_web   714 non-null    int64  \n",
      " 2   price        714 non-null    float64\n",
      " 3   total_sales  714 non-null    float64\n",
      "dtypes: float64(2), int64(1), object(1)\n",
      "memory usage: 27.9+ KB\n"
     ]
    }
   ],
   "source": [
    "chiffre_affaire.info()"
   ]
  },
  {
   "cell_type": "markdown",
   "id": "96ababb8",
   "metadata": {},
   "source": [
    "### 6.1.3 - Calcul du C.A par produit"
   ]
  },
  {
   "cell_type": "code",
   "execution_count": 48,
   "id": "0478008e",
   "metadata": {},
   "outputs": [],
   "source": [
    "chiffre_affaire[\"ca_produit\"] = (chiffre_affaire[\"price\"] * chiffre_affaire[\"total_sales\"])"
   ]
  },
  {
   "cell_type": "code",
   "execution_count": 49,
   "id": "abaea95a",
   "metadata": {},
   "outputs": [],
   "source": [
    "#chiffre_affaire.to_excel(\"chiffre_affaire.xlsx\")"
   ]
  },
  {
   "cell_type": "code",
   "execution_count": 50,
   "id": "8c544a42",
   "metadata": {},
   "outputs": [
    {
     "name": "stdout",
     "output_type": "stream",
     "text": [
      "<class 'pandas.core.frame.DataFrame'>\n",
      "Int64Index: 714 entries, 3847 to 7338\n",
      "Data columns (total 5 columns):\n",
      " #   Column       Non-Null Count  Dtype  \n",
      "---  ------       --------------  -----  \n",
      " 0   id_web       714 non-null    object \n",
      " 1   onsale_web   714 non-null    int64  \n",
      " 2   price        714 non-null    float64\n",
      " 3   total_sales  714 non-null    float64\n",
      " 4   ca_produit   714 non-null    float64\n",
      "dtypes: float64(3), int64(1), object(1)\n",
      "memory usage: 33.5+ KB\n"
     ]
    }
   ],
   "source": [
    "chiffre_affaire.info()"
   ]
  },
  {
   "cell_type": "markdown",
   "id": "ff094db2",
   "metadata": {},
   "source": [
    "### 6.1.4 - Remplacement des valeurs nulles par \"0.0\"."
   ]
  },
  {
   "cell_type": "code",
   "execution_count": 51,
   "id": "56a725a9",
   "metadata": {},
   "outputs": [],
   "source": [
    "chiffre_affaire[\"total_sales\"].fillna(0.0, inplace=True)"
   ]
  },
  {
   "cell_type": "code",
   "execution_count": 52,
   "id": "0b1e67e3",
   "metadata": {},
   "outputs": [
    {
     "name": "stdout",
     "output_type": "stream",
     "text": [
      "<class 'pandas.core.frame.DataFrame'>\n",
      "Int64Index: 714 entries, 3847 to 7338\n",
      "Data columns (total 5 columns):\n",
      " #   Column       Non-Null Count  Dtype  \n",
      "---  ------       --------------  -----  \n",
      " 0   id_web       714 non-null    object \n",
      " 1   onsale_web   714 non-null    int64  \n",
      " 2   price        714 non-null    float64\n",
      " 3   total_sales  714 non-null    float64\n",
      " 4   ca_produit   714 non-null    float64\n",
      "dtypes: float64(3), int64(1), object(1)\n",
      "memory usage: 33.5+ KB\n"
     ]
    }
   ],
   "source": [
    "chiffre_affaire.info()"
   ]
  },
  {
   "cell_type": "markdown",
   "id": "7cbb5e53",
   "metadata": {},
   "source": [
    "### 6.1.5 - Changement du type de données de la série \"total_sales\" en INT"
   ]
  },
  {
   "cell_type": "code",
   "execution_count": 53,
   "id": "dd317113",
   "metadata": {},
   "outputs": [],
   "source": [
    "chiffre_affaire[\"total_sales\"]=chiffre_affaire[\"total_sales\"].astype(int)"
   ]
  },
  {
   "cell_type": "code",
   "execution_count": 54,
   "id": "de803bcd",
   "metadata": {},
   "outputs": [
    {
     "data": {
      "text/html": [
       "<div>\n",
       "<style scoped>\n",
       "    .dataframe tbody tr th:only-of-type {\n",
       "        vertical-align: middle;\n",
       "    }\n",
       "\n",
       "    .dataframe tbody tr th {\n",
       "        vertical-align: top;\n",
       "    }\n",
       "\n",
       "    .dataframe thead th {\n",
       "        text-align: right;\n",
       "    }\n",
       "</style>\n",
       "<table border=\"1\" class=\"dataframe\">\n",
       "  <thead>\n",
       "    <tr style=\"text-align: right;\">\n",
       "      <th></th>\n",
       "      <th>id_web</th>\n",
       "      <th>onsale_web</th>\n",
       "      <th>price</th>\n",
       "      <th>total_sales</th>\n",
       "      <th>ca_produit</th>\n",
       "    </tr>\n",
       "    <tr>\n",
       "      <th>product_id</th>\n",
       "      <th></th>\n",
       "      <th></th>\n",
       "      <th></th>\n",
       "      <th></th>\n",
       "      <th></th>\n",
       "    </tr>\n",
       "  </thead>\n",
       "  <tbody>\n",
       "    <tr>\n",
       "      <th>3847</th>\n",
       "      <td>15298</td>\n",
       "      <td>1</td>\n",
       "      <td>24.2</td>\n",
       "      <td>6</td>\n",
       "      <td>145.2</td>\n",
       "    </tr>\n",
       "    <tr>\n",
       "      <th>3849</th>\n",
       "      <td>15296</td>\n",
       "      <td>1</td>\n",
       "      <td>34.3</td>\n",
       "      <td>0</td>\n",
       "      <td>0.0</td>\n",
       "    </tr>\n",
       "    <tr>\n",
       "      <th>3850</th>\n",
       "      <td>15300</td>\n",
       "      <td>1</td>\n",
       "      <td>20.8</td>\n",
       "      <td>0</td>\n",
       "      <td>0.0</td>\n",
       "    </tr>\n",
       "    <tr>\n",
       "      <th>4032</th>\n",
       "      <td>19814</td>\n",
       "      <td>1</td>\n",
       "      <td>14.1</td>\n",
       "      <td>3</td>\n",
       "      <td>42.3</td>\n",
       "    </tr>\n",
       "    <tr>\n",
       "      <th>4039</th>\n",
       "      <td>19815</td>\n",
       "      <td>1</td>\n",
       "      <td>46.0</td>\n",
       "      <td>0</td>\n",
       "      <td>0.0</td>\n",
       "    </tr>\n",
       "    <tr>\n",
       "      <th>4040</th>\n",
       "      <td>15303</td>\n",
       "      <td>1</td>\n",
       "      <td>34.3</td>\n",
       "      <td>0</td>\n",
       "      <td>0.0</td>\n",
       "    </tr>\n",
       "    <tr>\n",
       "      <th>4041</th>\n",
       "      <td>14975</td>\n",
       "      <td>1</td>\n",
       "      <td>32.7</td>\n",
       "      <td>0</td>\n",
       "      <td>0.0</td>\n",
       "    </tr>\n",
       "    <tr>\n",
       "      <th>4042</th>\n",
       "      <td>16042</td>\n",
       "      <td>1</td>\n",
       "      <td>31.2</td>\n",
       "      <td>7</td>\n",
       "      <td>218.4</td>\n",
       "    </tr>\n",
       "    <tr>\n",
       "      <th>4043</th>\n",
       "      <td>14980</td>\n",
       "      <td>1</td>\n",
       "      <td>60.0</td>\n",
       "      <td>3</td>\n",
       "      <td>180.0</td>\n",
       "    </tr>\n",
       "    <tr>\n",
       "      <th>4045</th>\n",
       "      <td>16041</td>\n",
       "      <td>1</td>\n",
       "      <td>42.6</td>\n",
       "      <td>14</td>\n",
       "      <td>596.4</td>\n",
       "    </tr>\n",
       "  </tbody>\n",
       "</table>\n",
       "</div>"
      ],
      "text/plain": [
       "           id_web  onsale_web  price  total_sales  ca_produit\n",
       "product_id                                                   \n",
       "3847        15298           1   24.2            6       145.2\n",
       "3849        15296           1   34.3            0         0.0\n",
       "3850        15300           1   20.8            0         0.0\n",
       "4032        19814           1   14.1            3        42.3\n",
       "4039        19815           1   46.0            0         0.0\n",
       "4040        15303           1   34.3            0         0.0\n",
       "4041        14975           1   32.7            0         0.0\n",
       "4042        16042           1   31.2            7       218.4\n",
       "4043        14980           1   60.0            3       180.0\n",
       "4045        16041           1   42.6           14       596.4"
      ]
     },
     "execution_count": 54,
     "metadata": {},
     "output_type": "execute_result"
    }
   ],
   "source": [
    "chiffre_affaire.head(10)"
   ]
  },
  {
   "cell_type": "markdown",
   "id": "ab5db603",
   "metadata": {},
   "source": [
    "### 6.1.6 - Classement du C.A par produit par ordre décroissant des valeurs"
   ]
  },
  {
   "cell_type": "code",
   "execution_count": 55,
   "id": "bb99fae3",
   "metadata": {},
   "outputs": [
    {
     "data": {
      "text/html": [
       "<div>\n",
       "<style scoped>\n",
       "    .dataframe tbody tr th:only-of-type {\n",
       "        vertical-align: middle;\n",
       "    }\n",
       "\n",
       "    .dataframe tbody tr th {\n",
       "        vertical-align: top;\n",
       "    }\n",
       "\n",
       "    .dataframe thead th {\n",
       "        text-align: right;\n",
       "    }\n",
       "</style>\n",
       "<table border=\"1\" class=\"dataframe\">\n",
       "  <thead>\n",
       "    <tr style=\"text-align: right;\">\n",
       "      <th></th>\n",
       "      <th>id_web</th>\n",
       "      <th>onsale_web</th>\n",
       "      <th>price</th>\n",
       "      <th>total_sales</th>\n",
       "      <th>ca_produit</th>\n",
       "    </tr>\n",
       "    <tr>\n",
       "      <th>product_id</th>\n",
       "      <th></th>\n",
       "      <th></th>\n",
       "      <th></th>\n",
       "      <th></th>\n",
       "      <th></th>\n",
       "    </tr>\n",
       "  </thead>\n",
       "  <tbody>\n",
       "    <tr>\n",
       "      <th>4334</th>\n",
       "      <td>7818</td>\n",
       "      <td>1</td>\n",
       "      <td>49.0</td>\n",
       "      <td>96</td>\n",
       "      <td>4704.0</td>\n",
       "    </tr>\n",
       "    <tr>\n",
       "      <th>4144</th>\n",
       "      <td>1662</td>\n",
       "      <td>1</td>\n",
       "      <td>49.0</td>\n",
       "      <td>87</td>\n",
       "      <td>4263.0</td>\n",
       "    </tr>\n",
       "    <tr>\n",
       "      <th>4402</th>\n",
       "      <td>3510</td>\n",
       "      <td>1</td>\n",
       "      <td>176.0</td>\n",
       "      <td>13</td>\n",
       "      <td>2288.0</td>\n",
       "    </tr>\n",
       "    <tr>\n",
       "      <th>4142</th>\n",
       "      <td>11641</td>\n",
       "      <td>1</td>\n",
       "      <td>53.0</td>\n",
       "      <td>30</td>\n",
       "      <td>1590.0</td>\n",
       "    </tr>\n",
       "    <tr>\n",
       "      <th>4141</th>\n",
       "      <td>304</td>\n",
       "      <td>1</td>\n",
       "      <td>39.0</td>\n",
       "      <td>40</td>\n",
       "      <td>1560.0</td>\n",
       "    </tr>\n",
       "    <tr>\n",
       "      <th>4355</th>\n",
       "      <td>12589</td>\n",
       "      <td>1</td>\n",
       "      <td>126.5</td>\n",
       "      <td>11</td>\n",
       "      <td>1391.5</td>\n",
       "    </tr>\n",
       "    <tr>\n",
       "      <th>4352</th>\n",
       "      <td>15940</td>\n",
       "      <td>1</td>\n",
       "      <td>225.0</td>\n",
       "      <td>5</td>\n",
       "      <td>1125.0</td>\n",
       "    </tr>\n",
       "    <tr>\n",
       "      <th>4153</th>\n",
       "      <td>16237</td>\n",
       "      <td>1</td>\n",
       "      <td>29.0</td>\n",
       "      <td>36</td>\n",
       "      <td>1044.0</td>\n",
       "    </tr>\n",
       "    <tr>\n",
       "      <th>6206</th>\n",
       "      <td>16580</td>\n",
       "      <td>1</td>\n",
       "      <td>25.2</td>\n",
       "      <td>41</td>\n",
       "      <td>1033.2</td>\n",
       "    </tr>\n",
       "    <tr>\n",
       "      <th>4068</th>\n",
       "      <td>16416</td>\n",
       "      <td>1</td>\n",
       "      <td>16.6</td>\n",
       "      <td>62</td>\n",
       "      <td>1029.2</td>\n",
       "    </tr>\n",
       "  </tbody>\n",
       "</table>\n",
       "</div>"
      ],
      "text/plain": [
       "           id_web  onsale_web  price  total_sales  ca_produit\n",
       "product_id                                                   \n",
       "4334         7818           1   49.0           96      4704.0\n",
       "4144         1662           1   49.0           87      4263.0\n",
       "4402         3510           1  176.0           13      2288.0\n",
       "4142        11641           1   53.0           30      1590.0\n",
       "4141          304           1   39.0           40      1560.0\n",
       "4355        12589           1  126.5           11      1391.5\n",
       "4352        15940           1  225.0            5      1125.0\n",
       "4153        16237           1   29.0           36      1044.0\n",
       "6206        16580           1   25.2           41      1033.2\n",
       "4068        16416           1   16.6           62      1029.2"
      ]
     },
     "execution_count": 55,
     "metadata": {},
     "output_type": "execute_result"
    }
   ],
   "source": [
    "chiffre_affaire.sort_values(by=[\"ca_produit\"], ascending=False).head(10)"
   ]
  },
  {
   "cell_type": "markdown",
   "id": "d7b8b0d8",
   "metadata": {},
   "source": [
    "### <u>6.2 - Chiffre d'affaire total en ligne</u>"
   ]
  },
  {
   "cell_type": "markdown",
   "id": "ee82f3f7",
   "metadata": {},
   "source": [
    "#### Condition sur \"onsale_web\" par valeur booléenne . \n",
    "#### - Je crée la variable \"online_sales\" en utilisant l'attribut\".loc\" pour sélectionner les lignes du dataframe par étiquette, là où la valeur de la série \"onsale_web\" est égale à 1 (produits étant vendus en ligne)"
   ]
  },
  {
   "cell_type": "code",
   "execution_count": 56,
   "id": "7457fa60",
   "metadata": {},
   "outputs": [
    {
     "data": {
      "text/html": [
       "<div>\n",
       "<style scoped>\n",
       "    .dataframe tbody tr th:only-of-type {\n",
       "        vertical-align: middle;\n",
       "    }\n",
       "\n",
       "    .dataframe tbody tr th {\n",
       "        vertical-align: top;\n",
       "    }\n",
       "\n",
       "    .dataframe thead th {\n",
       "        text-align: right;\n",
       "    }\n",
       "</style>\n",
       "<table border=\"1\" class=\"dataframe\">\n",
       "  <thead>\n",
       "    <tr style=\"text-align: right;\">\n",
       "      <th></th>\n",
       "      <th>id_web</th>\n",
       "      <th>onsale_web</th>\n",
       "      <th>price</th>\n",
       "      <th>total_sales</th>\n",
       "      <th>ca_produit</th>\n",
       "    </tr>\n",
       "    <tr>\n",
       "      <th>product_id</th>\n",
       "      <th></th>\n",
       "      <th></th>\n",
       "      <th></th>\n",
       "      <th></th>\n",
       "      <th></th>\n",
       "    </tr>\n",
       "  </thead>\n",
       "  <tbody>\n",
       "    <tr>\n",
       "      <th>3847</th>\n",
       "      <td>15298</td>\n",
       "      <td>1</td>\n",
       "      <td>24.2</td>\n",
       "      <td>6</td>\n",
       "      <td>145.2</td>\n",
       "    </tr>\n",
       "    <tr>\n",
       "      <th>3849</th>\n",
       "      <td>15296</td>\n",
       "      <td>1</td>\n",
       "      <td>34.3</td>\n",
       "      <td>0</td>\n",
       "      <td>0.0</td>\n",
       "    </tr>\n",
       "    <tr>\n",
       "      <th>3850</th>\n",
       "      <td>15300</td>\n",
       "      <td>1</td>\n",
       "      <td>20.8</td>\n",
       "      <td>0</td>\n",
       "      <td>0.0</td>\n",
       "    </tr>\n",
       "    <tr>\n",
       "      <th>4032</th>\n",
       "      <td>19814</td>\n",
       "      <td>1</td>\n",
       "      <td>14.1</td>\n",
       "      <td>3</td>\n",
       "      <td>42.3</td>\n",
       "    </tr>\n",
       "    <tr>\n",
       "      <th>4039</th>\n",
       "      <td>19815</td>\n",
       "      <td>1</td>\n",
       "      <td>46.0</td>\n",
       "      <td>0</td>\n",
       "      <td>0.0</td>\n",
       "    </tr>\n",
       "    <tr>\n",
       "      <th>4040</th>\n",
       "      <td>15303</td>\n",
       "      <td>1</td>\n",
       "      <td>34.3</td>\n",
       "      <td>0</td>\n",
       "      <td>0.0</td>\n",
       "    </tr>\n",
       "    <tr>\n",
       "      <th>4041</th>\n",
       "      <td>14975</td>\n",
       "      <td>1</td>\n",
       "      <td>32.7</td>\n",
       "      <td>0</td>\n",
       "      <td>0.0</td>\n",
       "    </tr>\n",
       "    <tr>\n",
       "      <th>4042</th>\n",
       "      <td>16042</td>\n",
       "      <td>1</td>\n",
       "      <td>31.2</td>\n",
       "      <td>7</td>\n",
       "      <td>218.4</td>\n",
       "    </tr>\n",
       "    <tr>\n",
       "      <th>4043</th>\n",
       "      <td>14980</td>\n",
       "      <td>1</td>\n",
       "      <td>60.0</td>\n",
       "      <td>3</td>\n",
       "      <td>180.0</td>\n",
       "    </tr>\n",
       "    <tr>\n",
       "      <th>4045</th>\n",
       "      <td>16041</td>\n",
       "      <td>1</td>\n",
       "      <td>42.6</td>\n",
       "      <td>14</td>\n",
       "      <td>596.4</td>\n",
       "    </tr>\n",
       "  </tbody>\n",
       "</table>\n",
       "</div>"
      ],
      "text/plain": [
       "           id_web  onsale_web  price  total_sales  ca_produit\n",
       "product_id                                                   \n",
       "3847        15298           1   24.2            6       145.2\n",
       "3849        15296           1   34.3            0         0.0\n",
       "3850        15300           1   20.8            0         0.0\n",
       "4032        19814           1   14.1            3        42.3\n",
       "4039        19815           1   46.0            0         0.0\n",
       "4040        15303           1   34.3            0         0.0\n",
       "4041        14975           1   32.7            0         0.0\n",
       "4042        16042           1   31.2            7       218.4\n",
       "4043        14980           1   60.0            3       180.0\n",
       "4045        16041           1   42.6           14       596.4"
      ]
     },
     "execution_count": 56,
     "metadata": {},
     "output_type": "execute_result"
    }
   ],
   "source": [
    "online_sales= chiffre_affaire.loc[chiffre_affaire[\"onsale_web\"] == 1]\n",
    "online_sales.head(10)"
   ]
  },
  {
   "cell_type": "markdown",
   "id": "bbe23c9c",
   "metadata": {},
   "source": [
    "### 6.2.1 - Montant total des bons cadeau"
   ]
  },
  {
   "cell_type": "markdown",
   "id": "b0fde2d8",
   "metadata": {},
   "source": [
    "#### - Je crée la variable \"bon_cadeau\" en utilisant l'indexation booléenne pour filtrer le dataframe \"chiffre_affaire\" en sélectionnant uniquement les lignes où la valeur, dans la série \"id_web\" est égale à \"bon-cadeau-25-euros\", puis la série \"ca_produit\" .\n",
    "#### -  J'utilise ensuite l'attribut \".values\" pour renvoyer les valeurs de \"ca_produit\" sous forme de tableau numpy en utilisant l'index [0], afin de sélectionner le premier élément du tableau qui deviendra la première valeur de la série \"ca_produit\" (qui correspond à la ligne où la valeur de \"id_web\" = \"bon-cadeau-25-euros\"."
   ]
  },
  {
   "cell_type": "code",
   "execution_count": 57,
   "id": "49d79160",
   "metadata": {},
   "outputs": [
    {
     "name": "stdout",
     "output_type": "stream",
     "text": [
      "le montant total en bons cadeaux est de 250.0 €\n"
     ]
    }
   ],
   "source": [
    "bon_cadeau = chiffre_affaire[chiffre_affaire[\"id_web\"] == \"bon-cadeau-25-euros\"][\"ca_produit\"].values[0]\n",
    "print(\"le montant total en bons cadeaux est de\",bon_cadeau,\"€\")"
   ]
  },
  {
   "cell_type": "markdown",
   "id": "2bd24637",
   "metadata": {},
   "source": [
    "### 6.2.3 - Calcul du C.A total en ligne"
   ]
  },
  {
   "cell_type": "code",
   "execution_count": 58,
   "id": "3e76f84c",
   "metadata": {},
   "outputs": [
    {
     "name": "stdout",
     "output_type": "stream",
     "text": [
      "Le chiffre d'affaire total des ventes en ligne s'élève à 70568.6 €\n"
     ]
    }
   ],
   "source": [
    "CA_online = chiffre_affaire[\"ca_produit\"].sum()\n",
    "print(\"Le chiffre d'affaire total des ventes en ligne s'élève à\",CA_online,\"€\")"
   ]
  },
  {
   "cell_type": "markdown",
   "id": "8831a1fd",
   "metadata": {},
   "source": [
    "#### je choisis de soustraire le montant total des bons cadeau du chiffre d'affaire total et de retenir ce montant."
   ]
  },
  {
   "cell_type": "code",
   "execution_count": 59,
   "id": "5c63b4f1",
   "metadata": {},
   "outputs": [
    {
     "name": "stdout",
     "output_type": "stream",
     "text": [
      "Le chiffre d'affaire total des ventes en ligne en soustrayant les bons cadeau s'élève à 70318.6 €\n"
     ]
    }
   ],
   "source": [
    "CA_online2 = chiffre_affaire[\"ca_produit\"].sum()-bon_cadeau\n",
    "print(\"Le chiffre d'affaire total des ventes en ligne en soustrayant les bons cadeau s'élève à\",CA_online2,\"€\")"
   ]
  },
  {
   "cell_type": "markdown",
   "id": "fd88e4dc",
   "metadata": {},
   "source": [
    "### 6.2.4 - Catégorisation des prix en 4 sections (bas, moyen_bas, moyen_haut, haut)"
   ]
  },
  {
   "cell_type": "markdown",
   "id": "7ec74c4f",
   "metadata": {},
   "source": [
    "### 6.2.4.1 - Création de la fonction \"catégory\" pour catégoriser les prix en 4 segments."
   ]
  },
  {
   "cell_type": "markdown",
   "id": "87262965",
   "metadata": {},
   "source": [
    "#### - Je prends \"x\" en entrée de valeur numérique pour catégorie, puis retourne une catégorie en fonction de cette valeur à l'aide de la fonction \"if-elif-else\" qui vérifie la valeur de x et retourne la catégorie appropriée.\n",
    "#### - J'utilise enfin la méthode \"apply\" qui applique la fonction \"category\" à chaque valeur de la colonne \"price\" du dataframe \"online_sales\". Cette méthode crée une nouvelle série \"category\" dans \"online_sales\"."
   ]
  },
  {
   "cell_type": "code",
   "execution_count": 60,
   "id": "172c4c08",
   "metadata": {},
   "outputs": [],
   "source": [
    "def category (x):\n",
    "    if x <= 20.0 :\n",
    "        return \"bas\"\n",
    "    elif ( x > 20 and x <= 50 ):\n",
    "        return \"moyen_bas\"\n",
    "    elif ( x > 50 and x <= 80 ):\n",
    "        return \"moyen_haut\"\n",
    "    else:\n",
    "        return \"haut\"\n",
    "    \n",
    "online_sales[\"category\"] = online_sales[\"price\"].apply(category)"
   ]
  },
  {
   "cell_type": "markdown",
   "id": "67e36110",
   "metadata": {},
   "source": [
    "### 6.2.4.2 - Création de la table pivot \"price\"\n",
    "#### - Utilisation de la fonction \".pivot_table\" qui prend en entrée le dataframe \"online_sales\" et , avec \"values\",ses séries \"total_sales\" et \"ca_produit\" qui seront utilisées pour calculer les valeurs de la table pivot nommée \"price\" .\n",
    "#### - \"index\" spécifie que \"category\" est la colonne du dataframe d'entrée qui est utilisée pour indexer la table pivot.\n",
    "#### - La fonction de calcul \"np.sum\" est désignée par \"aggfunc\" pour agréger les valeurs dans les cellules de \"price\", en additionnant les valeurs de \"total_sales\" et de \"ca_produit\" (values)."
   ]
  },
  {
   "cell_type": "code",
   "execution_count": 61,
   "id": "4f7e6846",
   "metadata": {},
   "outputs": [],
   "source": [
    "price = pd.pivot_table(online_sales, values={\"total_sales\", \"ca_produit\"}, index=\"category\", aggfunc=np.sum)"
   ]
  },
  {
   "cell_type": "code",
   "execution_count": 62,
   "id": "1a3c4f46",
   "metadata": {},
   "outputs": [
    {
     "data": {
      "text/html": [
       "<div>\n",
       "<style scoped>\n",
       "    .dataframe tbody tr th:only-of-type {\n",
       "        vertical-align: middle;\n",
       "    }\n",
       "\n",
       "    .dataframe tbody tr th {\n",
       "        vertical-align: top;\n",
       "    }\n",
       "\n",
       "    .dataframe thead th {\n",
       "        text-align: right;\n",
       "    }\n",
       "</style>\n",
       "<table border=\"1\" class=\"dataframe\">\n",
       "  <thead>\n",
       "    <tr style=\"text-align: right;\">\n",
       "      <th></th>\n",
       "      <th>ca_produit</th>\n",
       "      <th>total_sales</th>\n",
       "    </tr>\n",
       "    <tr>\n",
       "      <th>category</th>\n",
       "      <th></th>\n",
       "      <th></th>\n",
       "    </tr>\n",
       "  </thead>\n",
       "  <tbody>\n",
       "    <tr>\n",
       "      <th>bas</th>\n",
       "      <td>18340.5</td>\n",
       "      <td>1558</td>\n",
       "    </tr>\n",
       "    <tr>\n",
       "      <th>haut</th>\n",
       "      <td>6970.0</td>\n",
       "      <td>45</td>\n",
       "    </tr>\n",
       "    <tr>\n",
       "      <th>moyen_bas</th>\n",
       "      <td>36972.3</td>\n",
       "      <td>1124</td>\n",
       "    </tr>\n",
       "    <tr>\n",
       "      <th>moyen_haut</th>\n",
       "      <td>8285.8</td>\n",
       "      <td>138</td>\n",
       "    </tr>\n",
       "  </tbody>\n",
       "</table>\n",
       "</div>"
      ],
      "text/plain": [
       "            ca_produit  total_sales\n",
       "category                           \n",
       "bas            18340.5         1558\n",
       "haut            6970.0           45\n",
       "moyen_bas      36972.3         1124\n",
       "moyen_haut      8285.8          138"
      ]
     },
     "execution_count": 62,
     "metadata": {},
     "output_type": "execute_result"
    }
   ],
   "source": [
    "price"
   ]
  },
  {
   "cell_type": "markdown",
   "id": "7bfa2c7c",
   "metadata": {},
   "source": [
    "### 6.2.4.3 - Ajout des séries indiquant les proportions et informations des catégories dans le df \"price\""
   ]
  },
  {
   "cell_type": "code",
   "execution_count": 63,
   "id": "15c67f35",
   "metadata": {},
   "outputs": [],
   "source": [
    "price[\"perc_sales\"] = 100*price[\"total_sales\"]/(online_sales[\"total_sales\"].sum())\n",
    "price[\"perc_ca\"] = 100*price[\"ca_produit\"]/(online_sales[\"ca_produit\"].sum())\n",
    "price[\"price_range\"] = [\"<20€\", \">80€\",\"20-50€\", \"50-80€\"]\n",
    "price.rename(columns={\"ca_produit\" : \"ca_category\"}, inplace = True)"
   ]
  },
  {
   "cell_type": "code",
   "execution_count": 64,
   "id": "96f8400c",
   "metadata": {},
   "outputs": [
    {
     "data": {
      "text/html": [
       "<div>\n",
       "<style scoped>\n",
       "    .dataframe tbody tr th:only-of-type {\n",
       "        vertical-align: middle;\n",
       "    }\n",
       "\n",
       "    .dataframe tbody tr th {\n",
       "        vertical-align: top;\n",
       "    }\n",
       "\n",
       "    .dataframe thead th {\n",
       "        text-align: right;\n",
       "    }\n",
       "</style>\n",
       "<table border=\"1\" class=\"dataframe\">\n",
       "  <thead>\n",
       "    <tr style=\"text-align: right;\">\n",
       "      <th></th>\n",
       "      <th>ca_category</th>\n",
       "      <th>total_sales</th>\n",
       "      <th>perc_sales</th>\n",
       "      <th>perc_ca</th>\n",
       "      <th>price_range</th>\n",
       "    </tr>\n",
       "    <tr>\n",
       "      <th>category</th>\n",
       "      <th></th>\n",
       "      <th></th>\n",
       "      <th></th>\n",
       "      <th></th>\n",
       "      <th></th>\n",
       "    </tr>\n",
       "  </thead>\n",
       "  <tbody>\n",
       "    <tr>\n",
       "      <th>bas</th>\n",
       "      <td>18340.5</td>\n",
       "      <td>1558</td>\n",
       "      <td>54.380454</td>\n",
       "      <td>25.989604</td>\n",
       "      <td>&lt;20€</td>\n",
       "    </tr>\n",
       "    <tr>\n",
       "      <th>haut</th>\n",
       "      <td>6970.0</td>\n",
       "      <td>45</td>\n",
       "      <td>1.570681</td>\n",
       "      <td>9.876914</td>\n",
       "      <td>&gt;80€</td>\n",
       "    </tr>\n",
       "    <tr>\n",
       "      <th>moyen_bas</th>\n",
       "      <td>36972.3</td>\n",
       "      <td>1124</td>\n",
       "      <td>39.232112</td>\n",
       "      <td>52.391999</td>\n",
       "      <td>20-50€</td>\n",
       "    </tr>\n",
       "    <tr>\n",
       "      <th>moyen_haut</th>\n",
       "      <td>8285.8</td>\n",
       "      <td>138</td>\n",
       "      <td>4.816754</td>\n",
       "      <td>11.741483</td>\n",
       "      <td>50-80€</td>\n",
       "    </tr>\n",
       "  </tbody>\n",
       "</table>\n",
       "</div>"
      ],
      "text/plain": [
       "            ca_category  total_sales  perc_sales    perc_ca price_range\n",
       "category                                                               \n",
       "bas             18340.5         1558   54.380454  25.989604        <20€\n",
       "haut             6970.0           45    1.570681   9.876914        >80€\n",
       "moyen_bas       36972.3         1124   39.232112  52.391999      20-50€\n",
       "moyen_haut       8285.8          138    4.816754  11.741483      50-80€"
      ]
     },
     "execution_count": 64,
     "metadata": {},
     "output_type": "execute_result"
    }
   ],
   "source": [
    "price"
   ]
  },
  {
   "cell_type": "markdown",
   "id": "518d2503",
   "metadata": {},
   "source": [
    "### 6.2.4.4 - Diagramme circulaire représentant les proportions du nombre de ventes par catégorie de prix"
   ]
  },
  {
   "cell_type": "code",
   "execution_count": 65,
   "id": "4734c380",
   "metadata": {},
   "outputs": [
    {
     "data": {
      "image/png": "[encoded data removed]",
      "text/plain": [
       "<Figure size 600x600 with 1 Axes>"
      ]
     },
     "metadata": {},
     "output_type": "display_data"
    }
   ],
   "source": [
    "price_groups = online_sales.groupby(\"category\")[\"total_sales\"].sum()\n",
    "pie, ax = plt.subplots(figsize = [6,6])\n",
    "price_groups.plot.pie(autopct = \"%.1f%%\", explode =[0.05]*4, pctdistance=0.6)\n",
    "plt.title(\"proportion du nombre de ventes par catégorie de prix\")\n",
    "plt.ylabel(\"\")\n",
    "plt.show()"
   ]
  },
  {
   "cell_type": "markdown",
   "id": "b25eaf85",
   "metadata": {},
   "source": [
    "#### Le plus grand nombre de ventes est généré par les bouteilles à bas prix (<20€), suivi par celles dont le prix est moyennement bas (entre 20et 50 €). Ces 2 groupes représentent 93,6% du volume des ventes."
   ]
  },
  {
   "cell_type": "markdown",
   "id": "bf2b4424",
   "metadata": {},
   "source": [
    "### 6.2.4.5 - Diagramme circulaire représentant les proportions des C.A des ventes par catégorie de prix"
   ]
  },
  {
   "cell_type": "code",
   "execution_count": 66,
   "id": "97385654",
   "metadata": {},
   "outputs": [
    {
     "data": {
      "image/png": "[encoded data removed]",
      "text/plain": [
       "<Figure size 600x600 with 1 Axes>"
      ]
     },
     "metadata": {},
     "output_type": "display_data"
    }
   ],
   "source": [
    "price_groups = online_sales.groupby(\"category\")[\"ca_produit\"].sum()\n",
    "pie, ax = plt.subplots(figsize = [6,6])\n",
    "price_groups.plot.pie(autopct = \"%.1f%%\", explode =[0.05]*4, pctdistance=0.6)\n",
    "plt.title(\"proportion des montants des ventes par catégorie de prix\")\n",
    "plt.ylabel(\"\")\n",
    "plt.show()"
   ]
  },
  {
   "cell_type": "markdown",
   "id": "346b0fdb",
   "metadata": {},
   "source": [
    "#### la part de C.A la plus importante est réalisée par les bouteilles dont le prix est moyennement bas (entre 20 et 50 €), représentant plus de la moitié du C.A total (52,4%)"
   ]
  },
  {
   "cell_type": "markdown",
   "id": "fc0e9d9f",
   "metadata": {},
   "source": [
    "### 6.2.4.6 nuage de points représentant la relation du nombre de ventes par prix des articles"
   ]
  },
  {
   "cell_type": "code",
   "execution_count": 67,
   "id": "fd121d0a",
   "metadata": {},
   "outputs": [
    {
     "data": {
      "image/png": "[encoded data removed]",
      "text/plain": [
       "<Figure size 1000x400 with 1 Axes>"
      ]
     },
     "metadata": {},
     "output_type": "display_data"
    }
   ],
   "source": [
    "plt.subplots(figsize=[10,4])\n",
    "sns.scatterplot(data = online_sales, x =\"price\", y = \"total_sales\", s = 50)\n",
    "plt.xlabel(\"Price\")\n",
    "plt.ylabel(\"sales quantity\")\n",
    "plt.title(\"relation nb de ventes / prix bouteille \")\n",
    "plt.show()"
   ]
  },
  {
   "cell_type": "markdown",
   "id": "ddbacd7b",
   "metadata": {},
   "source": [
    "#### On peut voir la représentation du premier diagramme circulaire, par l'intermédiaire de ce nuage de points qui matérialise le regroupement du nombre de ventes en fonction du prix de chaque article."
   ]
  },
  {
   "cell_type": "markdown",
   "id": "b4e905bf",
   "metadata": {},
   "source": [
    "### <u>6.3 - Vérification des valeurs aberrantes</u>"
   ]
  },
  {
   "cell_type": "markdown",
   "id": "f7ac5ea8",
   "metadata": {},
   "source": [
    "### 6.3.1 - Recherche des prix bas, haut et moyen."
   ]
  },
  {
   "cell_type": "markdown",
   "id": "e0f7c110",
   "metadata": {},
   "source": [
    "### 6.3.1.1 - Prix bas"
   ]
  },
  {
   "cell_type": "code",
   "execution_count": 68,
   "id": "9a9f51b0",
   "metadata": {},
   "outputs": [
    {
     "name": "stdout",
     "output_type": "stream",
     "text": [
      "Le prix le plus bas est de 5.2 €\n"
     ]
    }
   ],
   "source": [
    "print(\"Le prix le plus bas est de\", chiffre_affaire[\"price\"].min(),\"€\")"
   ]
  },
  {
   "cell_type": "markdown",
   "id": "930a6c42",
   "metadata": {},
   "source": [
    "### 6.3.1.2 - Prix haut"
   ]
  },
  {
   "cell_type": "code",
   "execution_count": 69,
   "id": "cd32c03c",
   "metadata": {},
   "outputs": [
    {
     "name": "stdout",
     "output_type": "stream",
     "text": [
      "Le prix le plus haut est de 225.0 €\n"
     ]
    }
   ],
   "source": [
    "print(\"Le prix le plus haut est de\", chiffre_affaire[\"price\"].max(),\"€\")"
   ]
  },
  {
   "cell_type": "markdown",
   "id": "6a4a69f1",
   "metadata": {},
   "source": [
    "### 6.3.1.3 - Prix moyen"
   ]
  },
  {
   "cell_type": "code",
   "execution_count": 70,
   "id": "5e74d9ee",
   "metadata": {},
   "outputs": [
    {
     "name": "stdout",
     "output_type": "stream",
     "text": [
      "Le prix moyen est de 32.49 €\n"
     ]
    }
   ],
   "source": [
    "print(\"Le prix moyen est de\", round(chiffre_affaire[\"price\"].mean(),2),\"€\")"
   ]
  },
  {
   "cell_type": "markdown",
   "id": "4fc47b99",
   "metadata": {},
   "source": [
    "### 6.3.2 - Visualisation des valeurs aberrantes"
   ]
  },
  {
   "cell_type": "code",
   "execution_count": 71,
   "id": "61945e48",
   "metadata": {},
   "outputs": [
    {
     "data": {
      "image/png": "[encoded data removed]",
      "text/plain": [
       "<Figure size 1500x700 with 1 Axes>"
      ]
     },
     "metadata": {},
     "output_type": "display_data"
    }
   ],
   "source": [
    "figure = plt.figure (figsize=(15,7))\n",
    "plt.boxplot(chiffre_affaire[\"price\"],notch = True, vert=0)\n",
    "plt.show()"
   ]
  },
  {
   "cell_type": "markdown",
   "id": "83d6b47f",
   "metadata": {},
   "source": [
    "### 6.3.2.1 - Valeur des outliers"
   ]
  },
  {
   "cell_type": "markdown",
   "id": "f906260c",
   "metadata": {},
   "source": [
    "#### Utilisation des écarts interquartiles (IQR) pour retrouver les valeurs aberrantes.\n",
    "#### - IQR = Q3 - Q1.\n",
    "#### - Est considérée comme valeur aberrante, toute valeur   <u> > Q3 + (1.5 * IQR)</u>    ou    <u> < Q1 - (1.5 * IQR) </u>\n",
    "#### - Le percentile (25 percentiles = 1 quartile) est un concept statistique qui permet de déterminer la position d'une valeur par rapport à un groupe donné.\n",
    "#### - Q1 = 25 percentiles des données.\n",
    "#### - Q3 = 75 percentiles des données."
   ]
  },
  {
   "cell_type": "code",
   "execution_count": 72,
   "id": "1504de54",
   "metadata": {},
   "outputs": [
    {
     "data": {
      "text/html": [
       "<div>\n",
       "<style scoped>\n",
       "    .dataframe tbody tr th:only-of-type {\n",
       "        vertical-align: middle;\n",
       "    }\n",
       "\n",
       "    .dataframe tbody tr th {\n",
       "        vertical-align: top;\n",
       "    }\n",
       "\n",
       "    .dataframe thead th {\n",
       "        text-align: right;\n",
       "    }\n",
       "</style>\n",
       "<table border=\"1\" class=\"dataframe\">\n",
       "  <thead>\n",
       "    <tr style=\"text-align: right;\">\n",
       "      <th></th>\n",
       "      <th>sub</th>\n",
       "      <th>values</th>\n",
       "    </tr>\n",
       "  </thead>\n",
       "  <tbody>\n",
       "    <tr>\n",
       "      <th>0</th>\n",
       "      <td>IQR</td>\n",
       "      <td>28.075000</td>\n",
       "    </tr>\n",
       "    <tr>\n",
       "      <th>1</th>\n",
       "      <td>Upper Bound</td>\n",
       "      <td>84.287500</td>\n",
       "    </tr>\n",
       "    <tr>\n",
       "      <th>2</th>\n",
       "      <td>Lower Bound</td>\n",
       "      <td>-28.012500</td>\n",
       "    </tr>\n",
       "    <tr>\n",
       "      <th>3</th>\n",
       "      <td>Sum Outliers</td>\n",
       "      <td>32.000000</td>\n",
       "    </tr>\n",
       "    <tr>\n",
       "      <th>4</th>\n",
       "      <td>Percent Outliers</td>\n",
       "      <td>4.481793</td>\n",
       "    </tr>\n",
       "  </tbody>\n",
       "</table>\n",
       "</div>"
      ],
      "text/plain": [
       "                sub     values\n",
       "0               IQR  28.075000\n",
       "1       Upper Bound  84.287500\n",
       "2       Lower Bound -28.012500\n",
       "3      Sum Outliers  32.000000\n",
       "4  Percent Outliers   4.481793"
      ]
     },
     "execution_count": 72,
     "metadata": {},
     "output_type": "execute_result"
    }
   ],
   "source": [
    "def outliers (s) : # S représente le prix des produits\n",
    "    iqr = (np.quantile(s, 0.75))-(np.quantile(s,0.25)) #Ecart interquartile entre quartile sup. et quartile inf.\n",
    "    upper_bound = np.quantile(s,0.75)+(1.5*iqr) # Recherche des valeurs > Q3 + 1.5*iqr\n",
    "    lower_bound = np.quantile(s,0.25)-(1.5*iqr) # Recherche des valeurs < Q1 - 1.5*iqr\n",
    "    f = [] #Création d'une liste vide\n",
    "    for i in s :\n",
    "        if i > upper_bound:  \n",
    "            f.append(i)          # Si le prix est > Q3 + 1.5*iqr ==> valeurs aberrantes supérieures.\n",
    "        elif i < lower_bound:\n",
    "            f.append(i)          # Si le prix est < Q1 - 1.5*iqr ==> valeurs aberrantes inférieures.\n",
    "    nb_outliers = len(f)                # Définition du nombre de Outliers.\n",
    "    ratio_outliers = len(f)/len(s)*100    # Proportion d'Outliers.        \n",
    "    d = {\"IQR\":iqr,\n",
    "        \"Upper Bound\": upper_bound,\n",
    "        \"Lower Bound\": lower_bound,\n",
    "        \"Sum Outliers\" : nb_outliers,\n",
    "        \"Percent Outliers\":ratio_outliers}\n",
    "    d = pd.DataFrame(d.items(),columns = [\"sub\",\"values\"])\n",
    "    return (d)\n",
    "\n",
    "outliers(chiffre_affaire.price)"
   ]
  },
  {
   "cell_type": "markdown",
   "id": "95e3a1c5",
   "metadata": {},
   "source": [
    "### 6.3.2.2 - Liste des valeurs aberrantes"
   ]
  },
  {
   "cell_type": "code",
   "execution_count": 73,
   "id": "e41aee9c",
   "metadata": {},
   "outputs": [
    {
     "data": {
      "text/html": [
       "<div>\n",
       "<style scoped>\n",
       "    .dataframe tbody tr th:only-of-type {\n",
       "        vertical-align: middle;\n",
       "    }\n",
       "\n",
       "    .dataframe tbody tr th {\n",
       "        vertical-align: top;\n",
       "    }\n",
       "\n",
       "    .dataframe thead th {\n",
       "        text-align: right;\n",
       "    }\n",
       "</style>\n",
       "<table border=\"1\" class=\"dataframe\">\n",
       "  <thead>\n",
       "    <tr style=\"text-align: right;\">\n",
       "      <th></th>\n",
       "      <th>id_web</th>\n",
       "      <th>onsale_web</th>\n",
       "      <th>price</th>\n",
       "      <th>total_sales</th>\n",
       "      <th>ca_produit</th>\n",
       "    </tr>\n",
       "    <tr>\n",
       "      <th>product_id</th>\n",
       "      <th></th>\n",
       "      <th></th>\n",
       "      <th></th>\n",
       "      <th></th>\n",
       "      <th></th>\n",
       "    </tr>\n",
       "  </thead>\n",
       "  <tbody>\n",
       "    <tr>\n",
       "      <th>4352</th>\n",
       "      <td>15940</td>\n",
       "      <td>1</td>\n",
       "      <td>225.0</td>\n",
       "      <td>5</td>\n",
       "      <td>1125.0</td>\n",
       "    </tr>\n",
       "    <tr>\n",
       "      <th>5001</th>\n",
       "      <td>14581</td>\n",
       "      <td>1</td>\n",
       "      <td>217.5</td>\n",
       "      <td>0</td>\n",
       "      <td>0.0</td>\n",
       "    </tr>\n",
       "    <tr>\n",
       "      <th>5892</th>\n",
       "      <td>14983</td>\n",
       "      <td>1</td>\n",
       "      <td>191.3</td>\n",
       "      <td>3</td>\n",
       "      <td>573.9</td>\n",
       "    </tr>\n",
       "    <tr>\n",
       "      <th>4402</th>\n",
       "      <td>3510</td>\n",
       "      <td>1</td>\n",
       "      <td>176.0</td>\n",
       "      <td>13</td>\n",
       "      <td>2288.0</td>\n",
       "    </tr>\n",
       "    <tr>\n",
       "      <th>5767</th>\n",
       "      <td>15185</td>\n",
       "      <td>1</td>\n",
       "      <td>175.0</td>\n",
       "      <td>0</td>\n",
       "      <td>0.0</td>\n",
       "    </tr>\n",
       "    <tr>\n",
       "      <th>4406</th>\n",
       "      <td>7819</td>\n",
       "      <td>1</td>\n",
       "      <td>157.0</td>\n",
       "      <td>0</td>\n",
       "      <td>0.0</td>\n",
       "    </tr>\n",
       "    <tr>\n",
       "      <th>4904</th>\n",
       "      <td>14220</td>\n",
       "      <td>1</td>\n",
       "      <td>137.0</td>\n",
       "      <td>5</td>\n",
       "      <td>685.0</td>\n",
       "    </tr>\n",
       "    <tr>\n",
       "      <th>6126</th>\n",
       "      <td>14923</td>\n",
       "      <td>1</td>\n",
       "      <td>135.0</td>\n",
       "      <td>2</td>\n",
       "      <td>270.0</td>\n",
       "    </tr>\n",
       "    <tr>\n",
       "      <th>4355</th>\n",
       "      <td>12589</td>\n",
       "      <td>1</td>\n",
       "      <td>126.5</td>\n",
       "      <td>11</td>\n",
       "      <td>1391.5</td>\n",
       "    </tr>\n",
       "    <tr>\n",
       "      <th>5612</th>\n",
       "      <td>14915</td>\n",
       "      <td>1</td>\n",
       "      <td>124.8</td>\n",
       "      <td>0</td>\n",
       "      <td>0.0</td>\n",
       "    </tr>\n",
       "    <tr>\n",
       "      <th>5917</th>\n",
       "      <td>14775</td>\n",
       "      <td>1</td>\n",
       "      <td>122.0</td>\n",
       "      <td>0</td>\n",
       "      <td>0.0</td>\n",
       "    </tr>\n",
       "    <tr>\n",
       "      <th>6213</th>\n",
       "      <td>15072</td>\n",
       "      <td>1</td>\n",
       "      <td>121.0</td>\n",
       "      <td>0</td>\n",
       "      <td>0.0</td>\n",
       "    </tr>\n",
       "    <tr>\n",
       "      <th>6216</th>\n",
       "      <td>15070</td>\n",
       "      <td>1</td>\n",
       "      <td>121.0</td>\n",
       "      <td>0</td>\n",
       "      <td>0.0</td>\n",
       "    </tr>\n",
       "    <tr>\n",
       "      <th>6202</th>\n",
       "      <td>15126</td>\n",
       "      <td>1</td>\n",
       "      <td>116.4</td>\n",
       "      <td>0</td>\n",
       "      <td>0.0</td>\n",
       "    </tr>\n",
       "    <tr>\n",
       "      <th>6212</th>\n",
       "      <td>13996</td>\n",
       "      <td>1</td>\n",
       "      <td>115.0</td>\n",
       "      <td>2</td>\n",
       "      <td>230.0</td>\n",
       "    </tr>\n",
       "    <tr>\n",
       "      <th>6215</th>\n",
       "      <td>12790</td>\n",
       "      <td>1</td>\n",
       "      <td>115.0</td>\n",
       "      <td>0</td>\n",
       "      <td>0.0</td>\n",
       "    </tr>\n",
       "    <tr>\n",
       "      <th>5918</th>\n",
       "      <td>14773</td>\n",
       "      <td>1</td>\n",
       "      <td>114.0</td>\n",
       "      <td>0</td>\n",
       "      <td>0.0</td>\n",
       "    </tr>\n",
       "    <tr>\n",
       "      <th>5025</th>\n",
       "      <td>13914</td>\n",
       "      <td>1</td>\n",
       "      <td>112.0</td>\n",
       "      <td>0</td>\n",
       "      <td>0.0</td>\n",
       "    </tr>\n",
       "    <tr>\n",
       "      <th>4582</th>\n",
       "      <td>12857</td>\n",
       "      <td>1</td>\n",
       "      <td>109.6</td>\n",
       "      <td>0</td>\n",
       "      <td>0.0</td>\n",
       "    </tr>\n",
       "    <tr>\n",
       "      <th>4404</th>\n",
       "      <td>3507</td>\n",
       "      <td>1</td>\n",
       "      <td>108.5</td>\n",
       "      <td>2</td>\n",
       "      <td>217.0</td>\n",
       "    </tr>\n",
       "    <tr>\n",
       "      <th>6201</th>\n",
       "      <td>14596</td>\n",
       "      <td>1</td>\n",
       "      <td>105.6</td>\n",
       "      <td>0</td>\n",
       "      <td>0.0</td>\n",
       "    </tr>\n",
       "    <tr>\n",
       "      <th>5007</th>\n",
       "      <td>12791</td>\n",
       "      <td>1</td>\n",
       "      <td>105.0</td>\n",
       "      <td>0</td>\n",
       "      <td>0.0</td>\n",
       "    </tr>\n",
       "    <tr>\n",
       "      <th>5008</th>\n",
       "      <td>11602</td>\n",
       "      <td>1</td>\n",
       "      <td>105.0</td>\n",
       "      <td>0</td>\n",
       "      <td>0.0</td>\n",
       "    </tr>\n",
       "    <tr>\n",
       "      <th>4407</th>\n",
       "      <td>3509</td>\n",
       "      <td>1</td>\n",
       "      <td>104.0</td>\n",
       "      <td>1</td>\n",
       "      <td>104.0</td>\n",
       "    </tr>\n",
       "    <tr>\n",
       "      <th>4903</th>\n",
       "      <td>14805</td>\n",
       "      <td>1</td>\n",
       "      <td>102.3</td>\n",
       "      <td>0</td>\n",
       "      <td>0.0</td>\n",
       "    </tr>\n",
       "    <tr>\n",
       "      <th>4115</th>\n",
       "      <td>15382</td>\n",
       "      <td>1</td>\n",
       "      <td>100.0</td>\n",
       "      <td>0</td>\n",
       "      <td>0.0</td>\n",
       "    </tr>\n",
       "    <tr>\n",
       "      <th>6214</th>\n",
       "      <td>11601</td>\n",
       "      <td>1</td>\n",
       "      <td>99.0</td>\n",
       "      <td>0</td>\n",
       "      <td>0.0</td>\n",
       "    </tr>\n",
       "    <tr>\n",
       "      <th>5916</th>\n",
       "      <td>14774</td>\n",
       "      <td>1</td>\n",
       "      <td>93.0</td>\n",
       "      <td>0</td>\n",
       "      <td>0.0</td>\n",
       "    </tr>\n",
       "    <tr>\n",
       "      <th>5565</th>\n",
       "      <td>19822</td>\n",
       "      <td>1</td>\n",
       "      <td>92.0</td>\n",
       "      <td>0</td>\n",
       "      <td>0.0</td>\n",
       "    </tr>\n",
       "    <tr>\n",
       "      <th>4132</th>\n",
       "      <td>11668</td>\n",
       "      <td>1</td>\n",
       "      <td>88.4</td>\n",
       "      <td>0</td>\n",
       "      <td>0.0</td>\n",
       "    </tr>\n",
       "    <tr>\n",
       "      <th>5026</th>\n",
       "      <td>13913</td>\n",
       "      <td>1</td>\n",
       "      <td>86.8</td>\n",
       "      <td>0</td>\n",
       "      <td>0.0</td>\n",
       "    </tr>\n",
       "    <tr>\n",
       "      <th>4359</th>\n",
       "      <td>13853</td>\n",
       "      <td>1</td>\n",
       "      <td>85.6</td>\n",
       "      <td>1</td>\n",
       "      <td>85.6</td>\n",
       "    </tr>\n",
       "    <tr>\n",
       "      <th>5580</th>\n",
       "      <td>13982</td>\n",
       "      <td>1</td>\n",
       "      <td>83.7</td>\n",
       "      <td>0</td>\n",
       "      <td>0.0</td>\n",
       "    </tr>\n",
       "  </tbody>\n",
       "</table>\n",
       "</div>"
      ],
      "text/plain": [
       "           id_web  onsale_web  price  total_sales  ca_produit\n",
       "product_id                                                   \n",
       "4352        15940           1  225.0            5      1125.0\n",
       "5001        14581           1  217.5            0         0.0\n",
       "5892        14983           1  191.3            3       573.9\n",
       "4402         3510           1  176.0           13      2288.0\n",
       "5767        15185           1  175.0            0         0.0\n",
       "4406         7819           1  157.0            0         0.0\n",
       "4904        14220           1  137.0            5       685.0\n",
       "6126        14923           1  135.0            2       270.0\n",
       "4355        12589           1  126.5           11      1391.5\n",
       "5612        14915           1  124.8            0         0.0\n",
       "5917        14775           1  122.0            0         0.0\n",
       "6213        15072           1  121.0            0         0.0\n",
       "6216        15070           1  121.0            0         0.0\n",
       "6202        15126           1  116.4            0         0.0\n",
       "6212        13996           1  115.0            2       230.0\n",
       "6215        12790           1  115.0            0         0.0\n",
       "5918        14773           1  114.0            0         0.0\n",
       "5025        13914           1  112.0            0         0.0\n",
       "4582        12857           1  109.6            0         0.0\n",
       "4404         3507           1  108.5            2       217.0\n",
       "6201        14596           1  105.6            0         0.0\n",
       "5007        12791           1  105.0            0         0.0\n",
       "5008        11602           1  105.0            0         0.0\n",
       "4407         3509           1  104.0            1       104.0\n",
       "4903        14805           1  102.3            0         0.0\n",
       "4115        15382           1  100.0            0         0.0\n",
       "6214        11601           1   99.0            0         0.0\n",
       "5916        14774           1   93.0            0         0.0\n",
       "5565        19822           1   92.0            0         0.0\n",
       "4132        11668           1   88.4            0         0.0\n",
       "5026        13913           1   86.8            0         0.0\n",
       "4359        13853           1   85.6            1        85.6\n",
       "5580        13982           1   83.7            0         0.0"
      ]
     },
     "execution_count": 73,
     "metadata": {},
     "output_type": "execute_result"
    }
   ],
   "source": [
    "val_aberrantes = (chiffre_affaire.loc[chiffre_affaire[\"price\"] >= 83.1])\n",
    "val_aberrantes.sort_values(by=[\"price\"], ascending=False)"
   ]
  },
  {
   "cell_type": "markdown",
   "id": "927f2883",
   "metadata": {},
   "source": [
    "### La notion de \"valeur aberrante\" est difficilement applicable au marché du vin, tant la notion de prix peut être subjective, selon que l'on ait affaire à un vin de table à 1.50€ la pièce, ou bien à un grand cru pouvant aller à plusieurs centaines de milliers d'euros (  la Romanée Conti Grand Cru du Domaine de la Romanee Conti et plus précisément sur le millésime 1945 qui a été adjugé au prix de 482 000€)."
   ]
  }
 ],
 "metadata": {
  "kernelspec": {
   "display_name": "Python 3 (ipykernel)",
   "language": "python",
   "name": "python3"
  },
  "language_info": {
   "codemirror_mode": {
    "name": "ipython",
    "version": 3
   },
   "file_extension": ".py",
   "mimetype": "text/x-python",
   "name": "python",
   "nbconvert_exporter": "python",
   "pygments_lexer": "ipython3",
   "version": "3.9.13"
  },
  "vscode": {
   "interpreter": {
    "hash": "c261aea317cc0286b3b3261fbba9abdec21eaa57589985bb7a274bf54d6cc0a7"
   }
  }
 },
 "nbformat": 4,
 "nbformat_minor": 5
}
